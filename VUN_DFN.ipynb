{
  "nbformat": 4,
  "nbformat_minor": 0,
  "metadata": {
    "colab": {
      "provenance": [],
      "authorship_tag": "ABX9TyPifoYYP9BVeO/LC6dLO434",
      "include_colab_link": true
    },
    "kernelspec": {
      "name": "python3",
      "display_name": "Python 3"
    },
    "language_info": {
      "name": "python"
    }
  },
  "cells": [
    {
      "cell_type": "markdown",
      "metadata": {
        "id": "view-in-github",
        "colab_type": "text"
      },
      "source": [
        "<a href=\"https://colab.research.google.com/github/obeabi/Stocks_TSA/blob/main/VUN_DFN.ipynb\" target=\"_parent\"><img src=\"https://colab.research.google.com/assets/colab-badge.svg\" alt=\"Open In Colab\"/></a>"
      ]
    },
    {
      "cell_type": "code",
      "execution_count": 1,
      "metadata": {
        "colab": {
          "base_uri": "https://localhost:8080/"
        },
        "id": "tAaF3frkMhAv",
        "outputId": "62250007-6a24-4e03-c95c-a3b37b7d81a0"
      },
      "outputs": [
        {
          "output_type": "stream",
          "name": "stdout",
          "text": [
            "Looking in indexes: https://pypi.org/simple, https://us-python.pkg.dev/colab-wheels/public/simple/\n",
            "Collecting yfinance\n",
            "  Downloading yfinance-0.2.3-py2.py3-none-any.whl (50 kB)\n",
            "\u001b[K     |████████████████████████████████| 50 kB 2.9 MB/s \n",
            "\u001b[?25hRequirement already satisfied: pytz>=2022.5 in /usr/local/lib/python3.8/dist-packages (from yfinance) (2022.6)\n",
            "Collecting html5lib>=1.1\n",
            "  Downloading html5lib-1.1-py2.py3-none-any.whl (112 kB)\n",
            "\u001b[K     |████████████████████████████████| 112 kB 7.8 MB/s \n",
            "\u001b[?25hRequirement already satisfied: pandas>=1.3.0 in /usr/local/lib/python3.8/dist-packages (from yfinance) (1.3.5)\n",
            "Requirement already satisfied: multitasking>=0.0.7 in /usr/local/lib/python3.8/dist-packages (from yfinance) (0.0.11)\n",
            "Collecting frozendict>=2.3.4\n",
            "  Downloading frozendict-2.3.4-cp38-cp38-manylinux_2_17_x86_64.manylinux2014_x86_64.whl (110 kB)\n",
            "\u001b[K     |████████████████████████████████| 110 kB 45.5 MB/s \n",
            "\u001b[?25hRequirement already satisfied: appdirs>=1.4.4 in /usr/local/lib/python3.8/dist-packages (from yfinance) (1.4.4)\n",
            "Requirement already satisfied: lxml>=4.9.1 in /usr/local/lib/python3.8/dist-packages (from yfinance) (4.9.2)\n",
            "Collecting requests>=2.26\n",
            "  Downloading requests-2.28.1-py3-none-any.whl (62 kB)\n",
            "\u001b[K     |████████████████████████████████| 62 kB 1.5 MB/s \n",
            "\u001b[?25hCollecting cryptography>=3.3.2\n",
            "  Downloading cryptography-38.0.4-cp36-abi3-manylinux_2_24_x86_64.whl (4.0 MB)\n",
            "\u001b[K     |████████████████████████████████| 4.0 MB 66.3 MB/s \n",
            "\u001b[?25hCollecting beautifulsoup4>=4.11.1\n",
            "  Downloading beautifulsoup4-4.11.1-py3-none-any.whl (128 kB)\n",
            "\u001b[K     |████████████████████████████████| 128 kB 60.2 MB/s \n",
            "\u001b[?25hRequirement already satisfied: numpy>=1.16.5 in /usr/local/lib/python3.8/dist-packages (from yfinance) (1.21.6)\n",
            "Collecting soupsieve>1.2\n",
            "  Downloading soupsieve-2.3.2.post1-py3-none-any.whl (37 kB)\n",
            "Requirement already satisfied: cffi>=1.12 in /usr/local/lib/python3.8/dist-packages (from cryptography>=3.3.2->yfinance) (1.15.1)\n",
            "Requirement already satisfied: pycparser in /usr/local/lib/python3.8/dist-packages (from cffi>=1.12->cryptography>=3.3.2->yfinance) (2.21)\n",
            "Requirement already satisfied: six>=1.9 in /usr/local/lib/python3.8/dist-packages (from html5lib>=1.1->yfinance) (1.15.0)\n",
            "Requirement already satisfied: webencodings in /usr/local/lib/python3.8/dist-packages (from html5lib>=1.1->yfinance) (0.5.1)\n",
            "Requirement already satisfied: python-dateutil>=2.7.3 in /usr/local/lib/python3.8/dist-packages (from pandas>=1.3.0->yfinance) (2.8.2)\n",
            "Requirement already satisfied: certifi>=2017.4.17 in /usr/local/lib/python3.8/dist-packages (from requests>=2.26->yfinance) (2022.12.7)\n",
            "Requirement already satisfied: charset-normalizer<3,>=2 in /usr/local/lib/python3.8/dist-packages (from requests>=2.26->yfinance) (2.1.1)\n",
            "Requirement already satisfied: urllib3<1.27,>=1.21.1 in /usr/local/lib/python3.8/dist-packages (from requests>=2.26->yfinance) (1.24.3)\n",
            "Requirement already satisfied: idna<4,>=2.5 in /usr/local/lib/python3.8/dist-packages (from requests>=2.26->yfinance) (2.10)\n",
            "Installing collected packages: soupsieve, requests, html5lib, frozendict, cryptography, beautifulsoup4, yfinance\n",
            "  Attempting uninstall: requests\n",
            "    Found existing installation: requests 2.23.0\n",
            "    Uninstalling requests-2.23.0:\n",
            "      Successfully uninstalled requests-2.23.0\n",
            "  Attempting uninstall: html5lib\n",
            "    Found existing installation: html5lib 1.0.1\n",
            "    Uninstalling html5lib-1.0.1:\n",
            "      Successfully uninstalled html5lib-1.0.1\n",
            "  Attempting uninstall: beautifulsoup4\n",
            "    Found existing installation: beautifulsoup4 4.6.3\n",
            "    Uninstalling beautifulsoup4-4.6.3:\n",
            "      Successfully uninstalled beautifulsoup4-4.6.3\n",
            "Successfully installed beautifulsoup4-4.11.1 cryptography-38.0.4 frozendict-2.3.4 html5lib-1.1 requests-2.28.1 soupsieve-2.3.2.post1 yfinance-0.2.3\n"
          ]
        }
      ],
      "source": [
        "!pip install yfinance"
      ]
    },
    {
      "cell_type": "code",
      "source": [
        "# Install libraries\n",
        "import pandas as pd\n",
        "import numpy as np\n",
        "\n",
        "import scipy \n",
        "from scipy import stats\n",
        "import seaborn as sns\n",
        "import matplotlib.pyplot as plt\n",
        "from scipy.stats import mannwhitneyu, fisher_exact, ttest_ind, ttest_1samp, kstest\n",
        "from scipy.stats.mstats import ks_twosamp\n",
        "import statsmodels\n",
        "from statsmodels.stats.weightstats import ztest\n",
        "from statsmodels.graphics.mosaicplot import mosaic\n",
        "%matplotlib inline\n",
        "\n",
        "plt.rcParams['figure.figsize'] = (16.0, 8.0) # set default size of plots\n",
        "plt.rcParams['image.interpolation'] = 'nearest'\n",
        "plt.rcParams['image.cmap'] = 'gray'\n",
        "\n",
        "\n",
        "print(\"libraries installed succesfully!\")"
      ],
      "metadata": {
        "colab": {
          "base_uri": "https://localhost:8080/"
        },
        "id": "29TfBHZIMnTV",
        "outputId": "dbf0bf9d-572e-43a9-9dab-f59af02e283d"
      },
      "execution_count": 74,
      "outputs": [
        {
          "output_type": "stream",
          "name": "stdout",
          "text": [
            "libraries installed succesfully!\n"
          ]
        }
      ]
    },
    {
      "cell_type": "code",
      "source": [
        "import yfinance as yahooFinance\n",
        " \n",
        "# Here We are getting Facebook financial information\n",
        "# We need to pass FB as argument for VUN\n",
        "GetStockInformation = yahooFinance.Ticker(\"VUN.TO\")\n",
        "print(type(GetStockInformation.info))\n",
        " \n",
        "# whole python dictionary is printed here\n",
        "print(GetStockInformation.info)\n",
        "\n",
        "\n",
        "# Here We are getting Facebook financial information\n",
        "# We need to pass FB as argument for VUN\n",
        "GetStockInformation2 = yahooFinance.Ticker(\"DFN.TO\")\n",
        "print(type(GetStockInformation2.info))\n",
        " \n",
        "# whole python dictionary is printed here\n",
        "print(GetStockInformation2.info)\n"
      ],
      "metadata": {
        "colab": {
          "base_uri": "https://localhost:8080/"
        },
        "id": "ZFP7L7p_6V92",
        "outputId": "01a485e8-14b9-4928-db08-5ad2e67ce559"
      },
      "execution_count": 3,
      "outputs": [
        {
          "output_type": "stream",
          "name": "stdout",
          "text": [
            "<class 'dict'>\n",
            "{'exchange': 'TOR', 'shortName': 'VANGUARD US TOTAL MARKET IDX ET', 'longName': 'Vanguard U.S. Total Market Index ETF', 'exchangeTimezoneName': 'America/Toronto', 'exchangeTimezoneShortName': 'EST', 'isEsgPopulated': False, 'gmtOffSetMilliseconds': '-18000000', 'quoteType': 'ETF', 'symbol': 'VUN.TO', 'messageBoardId': 'finmb_242582003', 'market': 'ca_market', 'annualHoldingsTurnover': None, 'enterpriseToRevenue': None, 'beta3Year': 1.02, 'profitMargins': None, 'enterpriseToEbitda': None, '52WeekChange': None, 'morningStarRiskRating': None, 'forwardEps': None, 'revenueQuarterlyGrowth': None, 'fundInceptionDate': 1375401600, 'annualReportExpenseRatio': None, 'totalAssets': 5595947008, 'bookValue': None, 'fundFamily': 'Vanguard Investments Canada Inc', 'lastFiscalYearEnd': None, 'netIncomeToCommon': None, 'trailingEps': None, 'lastDividendValue': None, 'SandP52WeekChange': None, 'priceToBook': None, 'nextFiscalYearEnd': None, 'yield': 0.011, 'mostRecentQuarter': None, 'enterpriseValue': None, 'priceHint': 2, 'threeYearAverageReturn': 0.078200005, 'lastSplitDate': None, 'lastSplitFactor': None, 'legalType': 'Exchange Traded Fund', 'lastDividendDate': None, 'morningStarOverallRating': None, 'earningsQuarterlyGrowth': None, 'priceToSalesTrailing12Months': None, 'pegRatio': None, 'ytdReturn': None, 'forwardPE': None, 'maxAge': 1, 'lastCapGain': None, 'category': None, 'fiveYearAverageReturn': 0.0968, 'phone': 'NA', 'longBusinessSummary': 'NA', 'companyOfficers': [], 'previousClose': 70.98, 'regularMarketOpen': 70.36, 'twoHundredDayAverage': 71.46448, 'trailingAnnualDividendYield': None, 'payoutRatio': None, 'volume24Hr': None, 'regularMarketDayHigh': 70.5, 'navPrice': 71, 'averageDailyVolume10Day': 55580, 'regularMarketPreviousClose': 70.98, 'fiftyDayAverage': 71.7494, 'trailingAnnualDividendRate': None, 'open': 70.36, 'toCurrency': None, 'averageVolume10days': 55580, 'expireDate': None, 'algorithm': None, 'dividendRate': None, 'exDividendDate': None, 'beta': None, 'circulatingSupply': None, 'startDate': None, 'regularMarketDayLow': 69.85, 'currency': 'CAD', 'regularMarketVolume': 36288, 'lastMarket': None, 'maxSupply': None, 'openInterest': None, 'marketCap': None, 'volumeAllCurrencies': None, 'strikePrice': None, 'averageVolume': 45698, 'dayLow': 69.85, 'ask': 69.97, 'askSize': 0, 'volume': 36288, 'fiftyTwoWeekHigh': 84.75, 'fromCurrency': None, 'fiveYearAvgDividendYield': None, 'fiftyTwoWeekLow': 63.87, 'bid': 69.88, 'tradeable': False, 'dividendYield': None, 'bidSize': 0, 'dayHigh': 70.5, 'coinMarketCapLink': None, 'preferredPosition': None, 'bondPosition': 0, 'convertiblePosition': None, 'sectorWeightings': [{'realestate': 0.0342}, {'consumer_cyclical': 0.10560001}, {'basic_materials': 0.0248}, {'consumer_defensive': 0.0669}, {'technology': 0.2284}, {'communication_services': 0.0673}, {'financial_services': 0.1366}, {'utilities': 0.0241}, {'industrials': 0.0954}, {'energy': 0.052600004}, {'healthcare': 0.15020001}], 'holdings': [{'symbol': 'VTI', 'holdingName': 'Vanguard Total Stock Market ETF', 'holdingPercent': 1}], 'bondHoldings': {'maturity': None, 'duration': None, 'creditQuality': None, 'maturityCat': None, 'durationCat': None, 'creditQualityCat': None}, 'bondRatings': [{'bb': 0}, {'aa': 0}, {'aaa': 0}, {'a': 0}, {'other': 0}, {'b': 0}, {'bbb': 0}, {'below_b': 0}, {'us_government': 0}], 'equityHoldings': {'priceToCashflow': 16.72, 'priceToSales': 2.66, 'priceToBookCat': None, 'priceToEarningsCat': None, 'medianMarketCapCat': None, 'threeYearEarningsGrowthCat': None, 'threeYearEarningsGrowth': None, 'medianMarketCap': None, 'priceToEarnings': 17.21, 'priceToBook': 4.02, 'priceToSalesCat': None, 'priceToCashflowCat': None}, 'otherPosition': None, 'cashPosition': None, 'stockPosition': 0.9906, 'regularMarketPrice': 69.89, 'preMarketPrice': None, 'logo_url': 'https://logo.clearbit.com/VANGUARD.com', 'trailingPegRatio': None}\n",
            "<class 'dict'>\n",
            "{'zip': 'M5K 1K7', 'sector': 'Financial Services', 'longBusinessSummary': 'Dividend 15 Split Corp. is a close ended equity mutual fund launched by Quadravest Inc. The fund is managed by Quadravest Capital Management. It invests in public equity markets of Canada. The fund spreads its investments across diversified sectors. It benchmarks the performance of its portfolio against the S&P TSX 60 Index. Dividend 15 Split Corp. was formed on January 9, 2004 and is domiciled in Canada.', 'city': 'Toronto', 'phone': '416-304-4440', 'state': 'ON', 'country': 'Canada', 'companyOfficers': [], 'website': 'https://www.dividend15.com', 'maxAge': 1, 'address1': '77 King Street West', 'fax': '416-304-4441', 'industry': 'Asset Management', 'address2': 'Royal Trust Tower Suite 4500', 'ebitdaMargins': 0, 'profitMargins': 0.63508, 'grossMargins': 1, 'operatingCashflow': -166692576, 'revenueGrowth': -0.305, 'operatingMargins': 0.90933, 'ebitda': None, 'targetLowPrice': None, 'recommendationKey': 'none', 'grossProfits': 247274712, 'freeCashflow': 82848320, 'targetMedianPrice': None, 'currentPrice': 7.6, 'earningsGrowth': -0.593, 'currentRatio': 1.747, 'returnOnAssets': 0.07264, 'numberOfAnalystOpinions': None, 'targetMeanPrice': None, 'debtToEquity': 131.296, 'returnOnEquity': 0.19156, 'targetHighPrice': None, 'totalCash': 1710680064, 'totalDebt': 963144512, 'totalRevenue': 193904160, 'totalCashPerShare': 17.761, 'financialCurrency': 'CAD', 'revenuePerShare': 2.18, 'quickRatio': 1.747, 'recommendationMean': None, 'exchange': 'TOR', 'shortName': 'DIVIDEND 15 SPLIT CORP', 'longName': 'Dividend 15 Split Corp.', 'exchangeTimezoneName': 'America/Toronto', 'exchangeTimezoneShortName': 'EST', 'isEsgPopulated': False, 'gmtOffSetMilliseconds': '-18000000', 'quoteType': 'EQUITY', 'symbol': 'DFN.TO', 'messageBoardId': 'finmb_9368411', 'market': 'ca_market', 'annualHoldingsTurnover': None, 'enterpriseToRevenue': -0.045, 'beta3Year': None, 'enterpriseToEbitda': None, '52WeekChange': -0.04244697, 'morningStarRiskRating': None, 'forwardEps': None, 'revenueQuarterlyGrowth': None, 'sharesOutstanding': 99019504, 'fundInceptionDate': None, 'annualReportExpenseRatio': None, 'totalAssets': None, 'bookValue': 7.616, 'sharesShort': 533059, 'sharesPercentSharesOut': 0.0054, 'fundFamily': None, 'lastFiscalYearEnd': 1638230400, 'heldPercentInstitutions': None, 'netIncomeToCommon': 123145024, 'trailingEps': 1.13, 'lastDividendValue': 0.1, 'SandP52WeekChange': -0.19868875, 'priceToBook': 0.9978991, 'heldPercentInsiders': None, 'nextFiscalYearEnd': 1701302400, 'yield': None, 'mostRecentQuarter': 1653955200, 'shortRatio': 2.45, 'sharesShortPreviousMonthDate': 1668470400, 'floatShares': None, 'beta': 1.563674, 'enterpriseValue': -8803634, 'priceHint': 2, 'threeYearAverageReturn': None, 'lastSplitDate': None, 'lastSplitFactor': None, 'legalType': None, 'lastDividendDate': 1669680000, 'morningStarOverallRating': None, 'earningsQuarterlyGrowth': -0.416, 'priceToSalesTrailing12Months': 3.8810318, 'dateShortInterest': 1671062400, 'pegRatio': None, 'ytdReturn': None, 'forwardPE': None, 'lastCapGain': None, 'shortPercentOfFloat': None, 'sharesShortPriorMonth': 396595, 'impliedSharesOutstanding': 0, 'category': None, 'fiveYearAverageReturn': None, 'previousClose': 7.67, 'regularMarketOpen': 7.71, 'twoHundredDayAverage': 7.82545, 'trailingAnnualDividendYield': 0.15645371, 'payoutRatio': 1.0619, 'volume24Hr': None, 'regularMarketDayHigh': 7.77, 'navPrice': None, 'averageDailyVolume10Day': 233010, 'regularMarketPreviousClose': 7.67, 'fiftyDayAverage': 7.5196, 'trailingAnnualDividendRate': 1.2, 'open': 7.71, 'toCurrency': None, 'averageVolume10days': 233010, 'expireDate': None, 'algorithm': None, 'dividendRate': 1.2, 'exDividendDate': 1672272000, 'circulatingSupply': None, 'startDate': None, 'regularMarketDayLow': 7.565, 'currency': 'CAD', 'trailingPE': 6.7256637, 'regularMarketVolume': 534979, 'lastMarket': None, 'maxSupply': None, 'openInterest': None, 'marketCap': 752548224, 'volumeAllCurrencies': None, 'strikePrice': None, 'averageVolume': 266501, 'dayLow': 7.565, 'ask': 7.6, 'askSize': 0, 'volume': 534979, 'fiftyTwoWeekHigh': 8.83, 'fromCurrency': None, 'fiveYearAvgDividendYield': 14.76, 'fiftyTwoWeekLow': 6.36, 'bid': 7.59, 'tradeable': False, 'dividendYield': 0.1565, 'bidSize': 0, 'dayHigh': 7.77, 'coinMarketCapLink': None, 'regularMarketPrice': 7.6, 'preMarketPrice': None, 'logo_url': 'https://logo.clearbit.com/dividend15.com', 'trailingPegRatio': None}\n"
          ]
        }
      ]
    },
    {
      "cell_type": "code",
      "source": [
        "# get all key value pairs that are available FOR VUN.TO ETF\n",
        "for key, value in GetStockInformation.info.items():\n",
        "    print(key, \":\", value)"
      ],
      "metadata": {
        "colab": {
          "base_uri": "https://localhost:8080/"
        },
        "id": "fO9a53yF6nHN",
        "outputId": "b7c54500-3d19-440a-d86f-8cc936467528"
      },
      "execution_count": 4,
      "outputs": [
        {
          "output_type": "stream",
          "name": "stdout",
          "text": [
            "exchange : TOR\n",
            "shortName : VANGUARD US TOTAL MARKET IDX ET\n",
            "longName : Vanguard U.S. Total Market Index ETF\n",
            "exchangeTimezoneName : America/Toronto\n",
            "exchangeTimezoneShortName : EST\n",
            "isEsgPopulated : False\n",
            "gmtOffSetMilliseconds : -18000000\n",
            "quoteType : ETF\n",
            "symbol : VUN.TO\n",
            "messageBoardId : finmb_242582003\n",
            "market : ca_market\n",
            "annualHoldingsTurnover : None\n",
            "enterpriseToRevenue : None\n",
            "beta3Year : 1.02\n",
            "profitMargins : None\n",
            "enterpriseToEbitda : None\n",
            "52WeekChange : None\n",
            "morningStarRiskRating : None\n",
            "forwardEps : None\n",
            "revenueQuarterlyGrowth : None\n",
            "fundInceptionDate : 1375401600\n",
            "annualReportExpenseRatio : None\n",
            "totalAssets : 5595947008\n",
            "bookValue : None\n",
            "fundFamily : Vanguard Investments Canada Inc\n",
            "lastFiscalYearEnd : None\n",
            "netIncomeToCommon : None\n",
            "trailingEps : None\n",
            "lastDividendValue : None\n",
            "SandP52WeekChange : None\n",
            "priceToBook : None\n",
            "nextFiscalYearEnd : None\n",
            "yield : 0.011\n",
            "mostRecentQuarter : None\n",
            "enterpriseValue : None\n",
            "priceHint : 2\n",
            "threeYearAverageReturn : 0.078200005\n",
            "lastSplitDate : None\n",
            "lastSplitFactor : None\n",
            "legalType : Exchange Traded Fund\n",
            "lastDividendDate : None\n",
            "morningStarOverallRating : None\n",
            "earningsQuarterlyGrowth : None\n",
            "priceToSalesTrailing12Months : None\n",
            "pegRatio : None\n",
            "ytdReturn : None\n",
            "forwardPE : None\n",
            "maxAge : 1\n",
            "lastCapGain : None\n",
            "category : None\n",
            "fiveYearAverageReturn : 0.0968\n",
            "phone : NA\n",
            "longBusinessSummary : NA\n",
            "companyOfficers : []\n",
            "previousClose : 70.98\n",
            "regularMarketOpen : 70.36\n",
            "twoHundredDayAverage : 71.46448\n",
            "trailingAnnualDividendYield : None\n",
            "payoutRatio : None\n",
            "volume24Hr : None\n",
            "regularMarketDayHigh : 70.5\n",
            "navPrice : 71\n",
            "averageDailyVolume10Day : 55580\n",
            "regularMarketPreviousClose : 70.98\n",
            "fiftyDayAverage : 71.7494\n",
            "trailingAnnualDividendRate : None\n",
            "open : 70.36\n",
            "toCurrency : None\n",
            "averageVolume10days : 55580\n",
            "expireDate : None\n",
            "algorithm : None\n",
            "dividendRate : None\n",
            "exDividendDate : None\n",
            "beta : None\n",
            "circulatingSupply : None\n",
            "startDate : None\n",
            "regularMarketDayLow : 69.85\n",
            "currency : CAD\n",
            "regularMarketVolume : 36288\n",
            "lastMarket : None\n",
            "maxSupply : None\n",
            "openInterest : None\n",
            "marketCap : None\n",
            "volumeAllCurrencies : None\n",
            "strikePrice : None\n",
            "averageVolume : 45698\n",
            "dayLow : 69.85\n",
            "ask : 69.97\n",
            "askSize : 0\n",
            "volume : 36288\n",
            "fiftyTwoWeekHigh : 84.75\n",
            "fromCurrency : None\n",
            "fiveYearAvgDividendYield : None\n",
            "fiftyTwoWeekLow : 63.87\n",
            "bid : 69.88\n",
            "tradeable : False\n",
            "dividendYield : None\n",
            "bidSize : 0\n",
            "dayHigh : 70.5\n",
            "coinMarketCapLink : None\n",
            "preferredPosition : None\n",
            "bondPosition : 0\n",
            "convertiblePosition : None\n",
            "sectorWeightings : [{'realestate': 0.0342}, {'consumer_cyclical': 0.10560001}, {'basic_materials': 0.0248}, {'consumer_defensive': 0.0669}, {'technology': 0.2284}, {'communication_services': 0.0673}, {'financial_services': 0.1366}, {'utilities': 0.0241}, {'industrials': 0.0954}, {'energy': 0.052600004}, {'healthcare': 0.15020001}]\n",
            "holdings : [{'symbol': 'VTI', 'holdingName': 'Vanguard Total Stock Market ETF', 'holdingPercent': 1}]\n",
            "bondHoldings : {'maturity': None, 'duration': None, 'creditQuality': None, 'maturityCat': None, 'durationCat': None, 'creditQualityCat': None}\n",
            "bondRatings : [{'bb': 0}, {'aa': 0}, {'aaa': 0}, {'a': 0}, {'other': 0}, {'b': 0}, {'bbb': 0}, {'below_b': 0}, {'us_government': 0}]\n",
            "equityHoldings : {'priceToCashflow': 16.72, 'priceToSales': 2.66, 'priceToBookCat': None, 'priceToEarningsCat': None, 'medianMarketCapCat': None, 'threeYearEarningsGrowthCat': None, 'threeYearEarningsGrowth': None, 'medianMarketCap': None, 'priceToEarnings': 17.21, 'priceToBook': 4.02, 'priceToSalesCat': None, 'priceToCashflowCat': None}\n",
            "otherPosition : None\n",
            "cashPosition : None\n",
            "stockPosition : 0.9906\n",
            "regularMarketPrice : 69.89\n",
            "preMarketPrice : None\n",
            "logo_url : https://logo.clearbit.com/VANGUARD.com\n",
            "trailingPegRatio : None\n"
          ]
        }
      ]
    },
    {
      "cell_type": "code",
      "source": [
        "# get all key value pairs that are available for DFN.TO ETF\n",
        "for key, value in GetStockInformation2.info.items():\n",
        "    print(key, \":\", value)"
      ],
      "metadata": {
        "colab": {
          "base_uri": "https://localhost:8080/"
        },
        "id": "0sZfx6Jc6q2S",
        "outputId": "879b360e-26f5-4d39-936e-fe92574ef735"
      },
      "execution_count": 5,
      "outputs": [
        {
          "output_type": "stream",
          "name": "stdout",
          "text": [
            "zip : M5K 1K7\n",
            "sector : Financial Services\n",
            "longBusinessSummary : Dividend 15 Split Corp. is a close ended equity mutual fund launched by Quadravest Inc. The fund is managed by Quadravest Capital Management. It invests in public equity markets of Canada. The fund spreads its investments across diversified sectors. It benchmarks the performance of its portfolio against the S&P TSX 60 Index. Dividend 15 Split Corp. was formed on January 9, 2004 and is domiciled in Canada.\n",
            "city : Toronto\n",
            "phone : 416-304-4440\n",
            "state : ON\n",
            "country : Canada\n",
            "companyOfficers : []\n",
            "website : https://www.dividend15.com\n",
            "maxAge : 1\n",
            "address1 : 77 King Street West\n",
            "fax : 416-304-4441\n",
            "industry : Asset Management\n",
            "address2 : Royal Trust Tower Suite 4500\n",
            "ebitdaMargins : 0\n",
            "profitMargins : 0.63508\n",
            "grossMargins : 1\n",
            "operatingCashflow : -166692576\n",
            "revenueGrowth : -0.305\n",
            "operatingMargins : 0.90933\n",
            "ebitda : None\n",
            "targetLowPrice : None\n",
            "recommendationKey : none\n",
            "grossProfits : 247274712\n",
            "freeCashflow : 82848320\n",
            "targetMedianPrice : None\n",
            "currentPrice : 7.6\n",
            "earningsGrowth : -0.593\n",
            "currentRatio : 1.747\n",
            "returnOnAssets : 0.07264\n",
            "numberOfAnalystOpinions : None\n",
            "targetMeanPrice : None\n",
            "debtToEquity : 131.296\n",
            "returnOnEquity : 0.19156\n",
            "targetHighPrice : None\n",
            "totalCash : 1710680064\n",
            "totalDebt : 963144512\n",
            "totalRevenue : 193904160\n",
            "totalCashPerShare : 17.761\n",
            "financialCurrency : CAD\n",
            "revenuePerShare : 2.18\n",
            "quickRatio : 1.747\n",
            "recommendationMean : None\n",
            "exchange : TOR\n",
            "shortName : DIVIDEND 15 SPLIT CORP\n",
            "longName : Dividend 15 Split Corp.\n",
            "exchangeTimezoneName : America/Toronto\n",
            "exchangeTimezoneShortName : EST\n",
            "isEsgPopulated : False\n",
            "gmtOffSetMilliseconds : -18000000\n",
            "quoteType : EQUITY\n",
            "symbol : DFN.TO\n",
            "messageBoardId : finmb_9368411\n",
            "market : ca_market\n",
            "annualHoldingsTurnover : None\n",
            "enterpriseToRevenue : -0.045\n",
            "beta3Year : None\n",
            "enterpriseToEbitda : None\n",
            "52WeekChange : -0.04244697\n",
            "morningStarRiskRating : None\n",
            "forwardEps : None\n",
            "revenueQuarterlyGrowth : None\n",
            "sharesOutstanding : 99019504\n",
            "fundInceptionDate : None\n",
            "annualReportExpenseRatio : None\n",
            "totalAssets : None\n",
            "bookValue : 7.616\n",
            "sharesShort : 533059\n",
            "sharesPercentSharesOut : 0.0054\n",
            "fundFamily : None\n",
            "lastFiscalYearEnd : 1638230400\n",
            "heldPercentInstitutions : None\n",
            "netIncomeToCommon : 123145024\n",
            "trailingEps : 1.13\n",
            "lastDividendValue : 0.1\n",
            "SandP52WeekChange : -0.19868875\n",
            "priceToBook : 0.9978991\n",
            "heldPercentInsiders : None\n",
            "nextFiscalYearEnd : 1701302400\n",
            "yield : None\n",
            "mostRecentQuarter : 1653955200\n",
            "shortRatio : 2.45\n",
            "sharesShortPreviousMonthDate : 1668470400\n",
            "floatShares : None\n",
            "beta : 1.563674\n",
            "enterpriseValue : -8803634\n",
            "priceHint : 2\n",
            "threeYearAverageReturn : None\n",
            "lastSplitDate : None\n",
            "lastSplitFactor : None\n",
            "legalType : None\n",
            "lastDividendDate : 1669680000\n",
            "morningStarOverallRating : None\n",
            "earningsQuarterlyGrowth : -0.416\n",
            "priceToSalesTrailing12Months : 3.8810318\n",
            "dateShortInterest : 1671062400\n",
            "pegRatio : None\n",
            "ytdReturn : None\n",
            "forwardPE : None\n",
            "lastCapGain : None\n",
            "shortPercentOfFloat : None\n",
            "sharesShortPriorMonth : 396595\n",
            "impliedSharesOutstanding : 0\n",
            "category : None\n",
            "fiveYearAverageReturn : None\n",
            "previousClose : 7.67\n",
            "regularMarketOpen : 7.71\n",
            "twoHundredDayAverage : 7.82545\n",
            "trailingAnnualDividendYield : 0.15645371\n",
            "payoutRatio : 1.0619\n",
            "volume24Hr : None\n",
            "regularMarketDayHigh : 7.77\n",
            "navPrice : None\n",
            "averageDailyVolume10Day : 233010\n",
            "regularMarketPreviousClose : 7.67\n",
            "fiftyDayAverage : 7.5196\n",
            "trailingAnnualDividendRate : 1.2\n",
            "open : 7.71\n",
            "toCurrency : None\n",
            "averageVolume10days : 233010\n",
            "expireDate : None\n",
            "algorithm : None\n",
            "dividendRate : 1.2\n",
            "exDividendDate : 1672272000\n",
            "circulatingSupply : None\n",
            "startDate : None\n",
            "regularMarketDayLow : 7.565\n",
            "currency : CAD\n",
            "trailingPE : 6.7256637\n",
            "regularMarketVolume : 534979\n",
            "lastMarket : None\n",
            "maxSupply : None\n",
            "openInterest : None\n",
            "marketCap : 752548224\n",
            "volumeAllCurrencies : None\n",
            "strikePrice : None\n",
            "averageVolume : 266501\n",
            "dayLow : 7.565\n",
            "ask : 7.6\n",
            "askSize : 0\n",
            "volume : 534979\n",
            "fiftyTwoWeekHigh : 8.83\n",
            "fromCurrency : None\n",
            "fiveYearAvgDividendYield : 14.76\n",
            "fiftyTwoWeekLow : 6.36\n",
            "bid : 7.59\n",
            "tradeable : False\n",
            "dividendYield : 0.1565\n",
            "bidSize : 0\n",
            "dayHigh : 7.77\n",
            "coinMarketCapLink : None\n",
            "regularMarketPrice : 7.6\n",
            "preMarketPrice : None\n",
            "logo_url : https://logo.clearbit.com/dividend15.com\n",
            "trailingPegRatio : None\n"
          ]
        }
      ]
    },
    {
      "cell_type": "markdown",
      "source": [
        "# Retrieve historical ytd market prices for comparison."
      ],
      "metadata": {
        "id": "ZFHgPVpH61im"
      }
    },
    {
      "cell_type": "code",
      "source": [
        "# Valid options are 1d, 5d, 1mo, 3mo, 6mo, 1y, 2y,\n",
        "# 5y, 10y and ytd.\n",
        "df = GetStockInformation.history(period=\"ytd\")\n",
        "df.head()"
      ],
      "metadata": {
        "colab": {
          "base_uri": "https://localhost:8080/",
          "height": 237
        },
        "id": "j5kmONZp66LX",
        "outputId": "9b15337f-f5a4-41d7-9869-30bbb3371e0c"
      },
      "execution_count": 6,
      "outputs": [
        {
          "output_type": "execute_result",
          "data": {
            "text/plain": [
              "                                Open       High        Low      Close  Volume  \\\n",
              "Date                                                                            \n",
              "2022-01-04 00:00:00-05:00  83.317990  83.556039  82.683186  83.109695   59900   \n",
              "2022-01-05 00:00:00-05:00  82.921238  83.050188  81.631798  81.631798   88100   \n",
              "2022-01-06 00:00:00-05:00  81.810328  81.810328  81.185438  81.274712   69200   \n",
              "2022-01-07 00:00:00-05:00  81.274713  81.403654  80.382018  80.411774   43400   \n",
              "2022-01-10 00:00:00-05:00  80.342332  80.530792  78.973540  80.530792   94700   \n",
              "\n",
              "                           Dividends  Stock Splits  Capital Gains  \n",
              "Date                                                               \n",
              "2022-01-04 00:00:00-05:00        0.0           0.0            0.0  \n",
              "2022-01-05 00:00:00-05:00        0.0           0.0            0.0  \n",
              "2022-01-06 00:00:00-05:00        0.0           0.0            0.0  \n",
              "2022-01-07 00:00:00-05:00        0.0           0.0            0.0  \n",
              "2022-01-10 00:00:00-05:00        0.0           0.0            0.0  "
            ],
            "text/html": [
              "\n",
              "  <div id=\"df-a791799a-177c-4821-bb4a-5f9c42598a68\">\n",
              "    <div class=\"colab-df-container\">\n",
              "      <div>\n",
              "<style scoped>\n",
              "    .dataframe tbody tr th:only-of-type {\n",
              "        vertical-align: middle;\n",
              "    }\n",
              "\n",
              "    .dataframe tbody tr th {\n",
              "        vertical-align: top;\n",
              "    }\n",
              "\n",
              "    .dataframe thead th {\n",
              "        text-align: right;\n",
              "    }\n",
              "</style>\n",
              "<table border=\"1\" class=\"dataframe\">\n",
              "  <thead>\n",
              "    <tr style=\"text-align: right;\">\n",
              "      <th></th>\n",
              "      <th>Open</th>\n",
              "      <th>High</th>\n",
              "      <th>Low</th>\n",
              "      <th>Close</th>\n",
              "      <th>Volume</th>\n",
              "      <th>Dividends</th>\n",
              "      <th>Stock Splits</th>\n",
              "      <th>Capital Gains</th>\n",
              "    </tr>\n",
              "    <tr>\n",
              "      <th>Date</th>\n",
              "      <th></th>\n",
              "      <th></th>\n",
              "      <th></th>\n",
              "      <th></th>\n",
              "      <th></th>\n",
              "      <th></th>\n",
              "      <th></th>\n",
              "      <th></th>\n",
              "    </tr>\n",
              "  </thead>\n",
              "  <tbody>\n",
              "    <tr>\n",
              "      <th>2022-01-04 00:00:00-05:00</th>\n",
              "      <td>83.317990</td>\n",
              "      <td>83.556039</td>\n",
              "      <td>82.683186</td>\n",
              "      <td>83.109695</td>\n",
              "      <td>59900</td>\n",
              "      <td>0.0</td>\n",
              "      <td>0.0</td>\n",
              "      <td>0.0</td>\n",
              "    </tr>\n",
              "    <tr>\n",
              "      <th>2022-01-05 00:00:00-05:00</th>\n",
              "      <td>82.921238</td>\n",
              "      <td>83.050188</td>\n",
              "      <td>81.631798</td>\n",
              "      <td>81.631798</td>\n",
              "      <td>88100</td>\n",
              "      <td>0.0</td>\n",
              "      <td>0.0</td>\n",
              "      <td>0.0</td>\n",
              "    </tr>\n",
              "    <tr>\n",
              "      <th>2022-01-06 00:00:00-05:00</th>\n",
              "      <td>81.810328</td>\n",
              "      <td>81.810328</td>\n",
              "      <td>81.185438</td>\n",
              "      <td>81.274712</td>\n",
              "      <td>69200</td>\n",
              "      <td>0.0</td>\n",
              "      <td>0.0</td>\n",
              "      <td>0.0</td>\n",
              "    </tr>\n",
              "    <tr>\n",
              "      <th>2022-01-07 00:00:00-05:00</th>\n",
              "      <td>81.274713</td>\n",
              "      <td>81.403654</td>\n",
              "      <td>80.382018</td>\n",
              "      <td>80.411774</td>\n",
              "      <td>43400</td>\n",
              "      <td>0.0</td>\n",
              "      <td>0.0</td>\n",
              "      <td>0.0</td>\n",
              "    </tr>\n",
              "    <tr>\n",
              "      <th>2022-01-10 00:00:00-05:00</th>\n",
              "      <td>80.342332</td>\n",
              "      <td>80.530792</td>\n",
              "      <td>78.973540</td>\n",
              "      <td>80.530792</td>\n",
              "      <td>94700</td>\n",
              "      <td>0.0</td>\n",
              "      <td>0.0</td>\n",
              "      <td>0.0</td>\n",
              "    </tr>\n",
              "  </tbody>\n",
              "</table>\n",
              "</div>\n",
              "      <button class=\"colab-df-convert\" onclick=\"convertToInteractive('df-a791799a-177c-4821-bb4a-5f9c42598a68')\"\n",
              "              title=\"Convert this dataframe to an interactive table.\"\n",
              "              style=\"display:none;\">\n",
              "        \n",
              "  <svg xmlns=\"http://www.w3.org/2000/svg\" height=\"24px\"viewBox=\"0 0 24 24\"\n",
              "       width=\"24px\">\n",
              "    <path d=\"M0 0h24v24H0V0z\" fill=\"none\"/>\n",
              "    <path d=\"M18.56 5.44l.94 2.06.94-2.06 2.06-.94-2.06-.94-.94-2.06-.94 2.06-2.06.94zm-11 1L8.5 8.5l.94-2.06 2.06-.94-2.06-.94L8.5 2.5l-.94 2.06-2.06.94zm10 10l.94 2.06.94-2.06 2.06-.94-2.06-.94-.94-2.06-.94 2.06-2.06.94z\"/><path d=\"M17.41 7.96l-1.37-1.37c-.4-.4-.92-.59-1.43-.59-.52 0-1.04.2-1.43.59L10.3 9.45l-7.72 7.72c-.78.78-.78 2.05 0 2.83L4 21.41c.39.39.9.59 1.41.59.51 0 1.02-.2 1.41-.59l7.78-7.78 2.81-2.81c.8-.78.8-2.07 0-2.86zM5.41 20L4 18.59l7.72-7.72 1.47 1.35L5.41 20z\"/>\n",
              "  </svg>\n",
              "      </button>\n",
              "      \n",
              "  <style>\n",
              "    .colab-df-container {\n",
              "      display:flex;\n",
              "      flex-wrap:wrap;\n",
              "      gap: 12px;\n",
              "    }\n",
              "\n",
              "    .colab-df-convert {\n",
              "      background-color: #E8F0FE;\n",
              "      border: none;\n",
              "      border-radius: 50%;\n",
              "      cursor: pointer;\n",
              "      display: none;\n",
              "      fill: #1967D2;\n",
              "      height: 32px;\n",
              "      padding: 0 0 0 0;\n",
              "      width: 32px;\n",
              "    }\n",
              "\n",
              "    .colab-df-convert:hover {\n",
              "      background-color: #E2EBFA;\n",
              "      box-shadow: 0px 1px 2px rgba(60, 64, 67, 0.3), 0px 1px 3px 1px rgba(60, 64, 67, 0.15);\n",
              "      fill: #174EA6;\n",
              "    }\n",
              "\n",
              "    [theme=dark] .colab-df-convert {\n",
              "      background-color: #3B4455;\n",
              "      fill: #D2E3FC;\n",
              "    }\n",
              "\n",
              "    [theme=dark] .colab-df-convert:hover {\n",
              "      background-color: #434B5C;\n",
              "      box-shadow: 0px 1px 3px 1px rgba(0, 0, 0, 0.15);\n",
              "      filter: drop-shadow(0px 1px 2px rgba(0, 0, 0, 0.3));\n",
              "      fill: #FFFFFF;\n",
              "    }\n",
              "  </style>\n",
              "\n",
              "      <script>\n",
              "        const buttonEl =\n",
              "          document.querySelector('#df-a791799a-177c-4821-bb4a-5f9c42598a68 button.colab-df-convert');\n",
              "        buttonEl.style.display =\n",
              "          google.colab.kernel.accessAllowed ? 'block' : 'none';\n",
              "\n",
              "        async function convertToInteractive(key) {\n",
              "          const element = document.querySelector('#df-a791799a-177c-4821-bb4a-5f9c42598a68');\n",
              "          const dataTable =\n",
              "            await google.colab.kernel.invokeFunction('convertToInteractive',\n",
              "                                                     [key], {});\n",
              "          if (!dataTable) return;\n",
              "\n",
              "          const docLinkHtml = 'Like what you see? Visit the ' +\n",
              "            '<a target=\"_blank\" href=https://colab.research.google.com/notebooks/data_table.ipynb>data table notebook</a>'\n",
              "            + ' to learn more about interactive tables.';\n",
              "          element.innerHTML = '';\n",
              "          dataTable['output_type'] = 'display_data';\n",
              "          await google.colab.output.renderOutput(dataTable, element);\n",
              "          const docLink = document.createElement('div');\n",
              "          docLink.innerHTML = docLinkHtml;\n",
              "          element.appendChild(docLink);\n",
              "        }\n",
              "      </script>\n",
              "    </div>\n",
              "  </div>\n",
              "  "
            ]
          },
          "metadata": {},
          "execution_count": 6
        }
      ]
    },
    {
      "cell_type": "code",
      "source": [
        "# Calculate average daily return ofstock in basis point units\n",
        "df = df[['Open', 'Close']]\n",
        "df['daily_return'] = 100*((df['Close'] - df['Open'])/ df['Open'])\n",
        "\n",
        "df.head()"
      ],
      "metadata": {
        "colab": {
          "base_uri": "https://localhost:8080/",
          "height": 237
        },
        "id": "RKynMWmY7IUW",
        "outputId": "d2b5e741-b764-4cfc-cc5e-e24c2145ffe1"
      },
      "execution_count": 7,
      "outputs": [
        {
          "output_type": "execute_result",
          "data": {
            "text/plain": [
              "                                Open      Close  daily_return\n",
              "Date                                                         \n",
              "2022-01-04 00:00:00-05:00  83.317990  83.109695     -0.249999\n",
              "2022-01-05 00:00:00-05:00  82.921238  81.631798     -1.555018\n",
              "2022-01-06 00:00:00-05:00  81.810328  81.274712     -0.654705\n",
              "2022-01-07 00:00:00-05:00  81.274713  80.411774     -1.061756\n",
              "2022-01-10 00:00:00-05:00  80.342332  80.530792      0.234571"
            ],
            "text/html": [
              "\n",
              "  <div id=\"df-7a8fc545-d517-4f11-85b4-297db2f26681\">\n",
              "    <div class=\"colab-df-container\">\n",
              "      <div>\n",
              "<style scoped>\n",
              "    .dataframe tbody tr th:only-of-type {\n",
              "        vertical-align: middle;\n",
              "    }\n",
              "\n",
              "    .dataframe tbody tr th {\n",
              "        vertical-align: top;\n",
              "    }\n",
              "\n",
              "    .dataframe thead th {\n",
              "        text-align: right;\n",
              "    }\n",
              "</style>\n",
              "<table border=\"1\" class=\"dataframe\">\n",
              "  <thead>\n",
              "    <tr style=\"text-align: right;\">\n",
              "      <th></th>\n",
              "      <th>Open</th>\n",
              "      <th>Close</th>\n",
              "      <th>daily_return</th>\n",
              "    </tr>\n",
              "    <tr>\n",
              "      <th>Date</th>\n",
              "      <th></th>\n",
              "      <th></th>\n",
              "      <th></th>\n",
              "    </tr>\n",
              "  </thead>\n",
              "  <tbody>\n",
              "    <tr>\n",
              "      <th>2022-01-04 00:00:00-05:00</th>\n",
              "      <td>83.317990</td>\n",
              "      <td>83.109695</td>\n",
              "      <td>-0.249999</td>\n",
              "    </tr>\n",
              "    <tr>\n",
              "      <th>2022-01-05 00:00:00-05:00</th>\n",
              "      <td>82.921238</td>\n",
              "      <td>81.631798</td>\n",
              "      <td>-1.555018</td>\n",
              "    </tr>\n",
              "    <tr>\n",
              "      <th>2022-01-06 00:00:00-05:00</th>\n",
              "      <td>81.810328</td>\n",
              "      <td>81.274712</td>\n",
              "      <td>-0.654705</td>\n",
              "    </tr>\n",
              "    <tr>\n",
              "      <th>2022-01-07 00:00:00-05:00</th>\n",
              "      <td>81.274713</td>\n",
              "      <td>80.411774</td>\n",
              "      <td>-1.061756</td>\n",
              "    </tr>\n",
              "    <tr>\n",
              "      <th>2022-01-10 00:00:00-05:00</th>\n",
              "      <td>80.342332</td>\n",
              "      <td>80.530792</td>\n",
              "      <td>0.234571</td>\n",
              "    </tr>\n",
              "  </tbody>\n",
              "</table>\n",
              "</div>\n",
              "      <button class=\"colab-df-convert\" onclick=\"convertToInteractive('df-7a8fc545-d517-4f11-85b4-297db2f26681')\"\n",
              "              title=\"Convert this dataframe to an interactive table.\"\n",
              "              style=\"display:none;\">\n",
              "        \n",
              "  <svg xmlns=\"http://www.w3.org/2000/svg\" height=\"24px\"viewBox=\"0 0 24 24\"\n",
              "       width=\"24px\">\n",
              "    <path d=\"M0 0h24v24H0V0z\" fill=\"none\"/>\n",
              "    <path d=\"M18.56 5.44l.94 2.06.94-2.06 2.06-.94-2.06-.94-.94-2.06-.94 2.06-2.06.94zm-11 1L8.5 8.5l.94-2.06 2.06-.94-2.06-.94L8.5 2.5l-.94 2.06-2.06.94zm10 10l.94 2.06.94-2.06 2.06-.94-2.06-.94-.94-2.06-.94 2.06-2.06.94z\"/><path d=\"M17.41 7.96l-1.37-1.37c-.4-.4-.92-.59-1.43-.59-.52 0-1.04.2-1.43.59L10.3 9.45l-7.72 7.72c-.78.78-.78 2.05 0 2.83L4 21.41c.39.39.9.59 1.41.59.51 0 1.02-.2 1.41-.59l7.78-7.78 2.81-2.81c.8-.78.8-2.07 0-2.86zM5.41 20L4 18.59l7.72-7.72 1.47 1.35L5.41 20z\"/>\n",
              "  </svg>\n",
              "      </button>\n",
              "      \n",
              "  <style>\n",
              "    .colab-df-container {\n",
              "      display:flex;\n",
              "      flex-wrap:wrap;\n",
              "      gap: 12px;\n",
              "    }\n",
              "\n",
              "    .colab-df-convert {\n",
              "      background-color: #E8F0FE;\n",
              "      border: none;\n",
              "      border-radius: 50%;\n",
              "      cursor: pointer;\n",
              "      display: none;\n",
              "      fill: #1967D2;\n",
              "      height: 32px;\n",
              "      padding: 0 0 0 0;\n",
              "      width: 32px;\n",
              "    }\n",
              "\n",
              "    .colab-df-convert:hover {\n",
              "      background-color: #E2EBFA;\n",
              "      box-shadow: 0px 1px 2px rgba(60, 64, 67, 0.3), 0px 1px 3px 1px rgba(60, 64, 67, 0.15);\n",
              "      fill: #174EA6;\n",
              "    }\n",
              "\n",
              "    [theme=dark] .colab-df-convert {\n",
              "      background-color: #3B4455;\n",
              "      fill: #D2E3FC;\n",
              "    }\n",
              "\n",
              "    [theme=dark] .colab-df-convert:hover {\n",
              "      background-color: #434B5C;\n",
              "      box-shadow: 0px 1px 3px 1px rgba(0, 0, 0, 0.15);\n",
              "      filter: drop-shadow(0px 1px 2px rgba(0, 0, 0, 0.3));\n",
              "      fill: #FFFFFF;\n",
              "    }\n",
              "  </style>\n",
              "\n",
              "      <script>\n",
              "        const buttonEl =\n",
              "          document.querySelector('#df-7a8fc545-d517-4f11-85b4-297db2f26681 button.colab-df-convert');\n",
              "        buttonEl.style.display =\n",
              "          google.colab.kernel.accessAllowed ? 'block' : 'none';\n",
              "\n",
              "        async function convertToInteractive(key) {\n",
              "          const element = document.querySelector('#df-7a8fc545-d517-4f11-85b4-297db2f26681');\n",
              "          const dataTable =\n",
              "            await google.colab.kernel.invokeFunction('convertToInteractive',\n",
              "                                                     [key], {});\n",
              "          if (!dataTable) return;\n",
              "\n",
              "          const docLinkHtml = 'Like what you see? Visit the ' +\n",
              "            '<a target=\"_blank\" href=https://colab.research.google.com/notebooks/data_table.ipynb>data table notebook</a>'\n",
              "            + ' to learn more about interactive tables.';\n",
              "          element.innerHTML = '';\n",
              "          dataTable['output_type'] = 'display_data';\n",
              "          await google.colab.output.renderOutput(dataTable, element);\n",
              "          const docLink = document.createElement('div');\n",
              "          docLink.innerHTML = docLinkHtml;\n",
              "          element.appendChild(docLink);\n",
              "        }\n",
              "      </script>\n",
              "    </div>\n",
              "  </div>\n",
              "  "
            ]
          },
          "metadata": {},
          "execution_count": 7
        }
      ]
    },
    {
      "cell_type": "code",
      "source": [
        "# Valid options are 1d, 5d, 1mo, 3mo, 6mo, 1y, 2y,\n",
        "# 5y, 10y and ytd.\n",
        "df2 = GetStockInformation2.history(period=\"ytd\")\n",
        "df2.head()"
      ],
      "metadata": {
        "colab": {
          "base_uri": "https://localhost:8080/",
          "height": 237
        },
        "id": "yLv-ob1x7B2O",
        "outputId": "edeed3f9-296e-4534-f26b-d7324c8e5d90"
      },
      "execution_count": 8,
      "outputs": [
        {
          "output_type": "execute_result",
          "data": {
            "text/plain": [
              "                               Open      High       Low     Close  Volume  \\\n",
              "Date                                                                        \n",
              "2022-01-04 00:00:00-05:00  6.984145  7.019022  6.984145  7.001583  250800   \n",
              "2022-01-05 00:00:00-05:00  7.001583  7.036460  6.984145  7.001583  227900   \n",
              "2022-01-06 00:00:00-05:00  7.010303  7.053899  6.992865  7.036460  190600   \n",
              "2022-01-07 00:00:00-05:00  7.036461  7.080057  7.019022  7.071338  242300   \n",
              "2022-01-10 00:00:00-05:00  7.071338  7.080058  7.001584  7.062620  257400   \n",
              "\n",
              "                           Dividends  Stock Splits  \n",
              "Date                                                \n",
              "2022-01-04 00:00:00-05:00        0.0           0.0  \n",
              "2022-01-05 00:00:00-05:00        0.0           0.0  \n",
              "2022-01-06 00:00:00-05:00        0.0           0.0  \n",
              "2022-01-07 00:00:00-05:00        0.0           0.0  \n",
              "2022-01-10 00:00:00-05:00        0.0           0.0  "
            ],
            "text/html": [
              "\n",
              "  <div id=\"df-85db9db8-c6f8-4e46-a2f7-d48616b0e543\">\n",
              "    <div class=\"colab-df-container\">\n",
              "      <div>\n",
              "<style scoped>\n",
              "    .dataframe tbody tr th:only-of-type {\n",
              "        vertical-align: middle;\n",
              "    }\n",
              "\n",
              "    .dataframe tbody tr th {\n",
              "        vertical-align: top;\n",
              "    }\n",
              "\n",
              "    .dataframe thead th {\n",
              "        text-align: right;\n",
              "    }\n",
              "</style>\n",
              "<table border=\"1\" class=\"dataframe\">\n",
              "  <thead>\n",
              "    <tr style=\"text-align: right;\">\n",
              "      <th></th>\n",
              "      <th>Open</th>\n",
              "      <th>High</th>\n",
              "      <th>Low</th>\n",
              "      <th>Close</th>\n",
              "      <th>Volume</th>\n",
              "      <th>Dividends</th>\n",
              "      <th>Stock Splits</th>\n",
              "    </tr>\n",
              "    <tr>\n",
              "      <th>Date</th>\n",
              "      <th></th>\n",
              "      <th></th>\n",
              "      <th></th>\n",
              "      <th></th>\n",
              "      <th></th>\n",
              "      <th></th>\n",
              "      <th></th>\n",
              "    </tr>\n",
              "  </thead>\n",
              "  <tbody>\n",
              "    <tr>\n",
              "      <th>2022-01-04 00:00:00-05:00</th>\n",
              "      <td>6.984145</td>\n",
              "      <td>7.019022</td>\n",
              "      <td>6.984145</td>\n",
              "      <td>7.001583</td>\n",
              "      <td>250800</td>\n",
              "      <td>0.0</td>\n",
              "      <td>0.0</td>\n",
              "    </tr>\n",
              "    <tr>\n",
              "      <th>2022-01-05 00:00:00-05:00</th>\n",
              "      <td>7.001583</td>\n",
              "      <td>7.036460</td>\n",
              "      <td>6.984145</td>\n",
              "      <td>7.001583</td>\n",
              "      <td>227900</td>\n",
              "      <td>0.0</td>\n",
              "      <td>0.0</td>\n",
              "    </tr>\n",
              "    <tr>\n",
              "      <th>2022-01-06 00:00:00-05:00</th>\n",
              "      <td>7.010303</td>\n",
              "      <td>7.053899</td>\n",
              "      <td>6.992865</td>\n",
              "      <td>7.036460</td>\n",
              "      <td>190600</td>\n",
              "      <td>0.0</td>\n",
              "      <td>0.0</td>\n",
              "    </tr>\n",
              "    <tr>\n",
              "      <th>2022-01-07 00:00:00-05:00</th>\n",
              "      <td>7.036461</td>\n",
              "      <td>7.080057</td>\n",
              "      <td>7.019022</td>\n",
              "      <td>7.071338</td>\n",
              "      <td>242300</td>\n",
              "      <td>0.0</td>\n",
              "      <td>0.0</td>\n",
              "    </tr>\n",
              "    <tr>\n",
              "      <th>2022-01-10 00:00:00-05:00</th>\n",
              "      <td>7.071338</td>\n",
              "      <td>7.080058</td>\n",
              "      <td>7.001584</td>\n",
              "      <td>7.062620</td>\n",
              "      <td>257400</td>\n",
              "      <td>0.0</td>\n",
              "      <td>0.0</td>\n",
              "    </tr>\n",
              "  </tbody>\n",
              "</table>\n",
              "</div>\n",
              "      <button class=\"colab-df-convert\" onclick=\"convertToInteractive('df-85db9db8-c6f8-4e46-a2f7-d48616b0e543')\"\n",
              "              title=\"Convert this dataframe to an interactive table.\"\n",
              "              style=\"display:none;\">\n",
              "        \n",
              "  <svg xmlns=\"http://www.w3.org/2000/svg\" height=\"24px\"viewBox=\"0 0 24 24\"\n",
              "       width=\"24px\">\n",
              "    <path d=\"M0 0h24v24H0V0z\" fill=\"none\"/>\n",
              "    <path d=\"M18.56 5.44l.94 2.06.94-2.06 2.06-.94-2.06-.94-.94-2.06-.94 2.06-2.06.94zm-11 1L8.5 8.5l.94-2.06 2.06-.94-2.06-.94L8.5 2.5l-.94 2.06-2.06.94zm10 10l.94 2.06.94-2.06 2.06-.94-2.06-.94-.94-2.06-.94 2.06-2.06.94z\"/><path d=\"M17.41 7.96l-1.37-1.37c-.4-.4-.92-.59-1.43-.59-.52 0-1.04.2-1.43.59L10.3 9.45l-7.72 7.72c-.78.78-.78 2.05 0 2.83L4 21.41c.39.39.9.59 1.41.59.51 0 1.02-.2 1.41-.59l7.78-7.78 2.81-2.81c.8-.78.8-2.07 0-2.86zM5.41 20L4 18.59l7.72-7.72 1.47 1.35L5.41 20z\"/>\n",
              "  </svg>\n",
              "      </button>\n",
              "      \n",
              "  <style>\n",
              "    .colab-df-container {\n",
              "      display:flex;\n",
              "      flex-wrap:wrap;\n",
              "      gap: 12px;\n",
              "    }\n",
              "\n",
              "    .colab-df-convert {\n",
              "      background-color: #E8F0FE;\n",
              "      border: none;\n",
              "      border-radius: 50%;\n",
              "      cursor: pointer;\n",
              "      display: none;\n",
              "      fill: #1967D2;\n",
              "      height: 32px;\n",
              "      padding: 0 0 0 0;\n",
              "      width: 32px;\n",
              "    }\n",
              "\n",
              "    .colab-df-convert:hover {\n",
              "      background-color: #E2EBFA;\n",
              "      box-shadow: 0px 1px 2px rgba(60, 64, 67, 0.3), 0px 1px 3px 1px rgba(60, 64, 67, 0.15);\n",
              "      fill: #174EA6;\n",
              "    }\n",
              "\n",
              "    [theme=dark] .colab-df-convert {\n",
              "      background-color: #3B4455;\n",
              "      fill: #D2E3FC;\n",
              "    }\n",
              "\n",
              "    [theme=dark] .colab-df-convert:hover {\n",
              "      background-color: #434B5C;\n",
              "      box-shadow: 0px 1px 3px 1px rgba(0, 0, 0, 0.15);\n",
              "      filter: drop-shadow(0px 1px 2px rgba(0, 0, 0, 0.3));\n",
              "      fill: #FFFFFF;\n",
              "    }\n",
              "  </style>\n",
              "\n",
              "      <script>\n",
              "        const buttonEl =\n",
              "          document.querySelector('#df-85db9db8-c6f8-4e46-a2f7-d48616b0e543 button.colab-df-convert');\n",
              "        buttonEl.style.display =\n",
              "          google.colab.kernel.accessAllowed ? 'block' : 'none';\n",
              "\n",
              "        async function convertToInteractive(key) {\n",
              "          const element = document.querySelector('#df-85db9db8-c6f8-4e46-a2f7-d48616b0e543');\n",
              "          const dataTable =\n",
              "            await google.colab.kernel.invokeFunction('convertToInteractive',\n",
              "                                                     [key], {});\n",
              "          if (!dataTable) return;\n",
              "\n",
              "          const docLinkHtml = 'Like what you see? Visit the ' +\n",
              "            '<a target=\"_blank\" href=https://colab.research.google.com/notebooks/data_table.ipynb>data table notebook</a>'\n",
              "            + ' to learn more about interactive tables.';\n",
              "          element.innerHTML = '';\n",
              "          dataTable['output_type'] = 'display_data';\n",
              "          await google.colab.output.renderOutput(dataTable, element);\n",
              "          const docLink = document.createElement('div');\n",
              "          docLink.innerHTML = docLinkHtml;\n",
              "          element.appendChild(docLink);\n",
              "        }\n",
              "      </script>\n",
              "    </div>\n",
              "  </div>\n",
              "  "
            ]
          },
          "metadata": {},
          "execution_count": 8
        }
      ]
    },
    {
      "cell_type": "code",
      "source": [
        "# Calculate average daily return ofstock in basis point units\n",
        "df2 = df2[['Open', 'Close']]\n",
        "df2['daily_return'] = 100*((df2['Close'] - df2['Open'])/ df2['Open'])\n",
        "\n",
        "df2.head()"
      ],
      "metadata": {
        "colab": {
          "base_uri": "https://localhost:8080/",
          "height": 237
        },
        "id": "l3cNPIt58nHR",
        "outputId": "c2f42d03-08ef-42aa-8e13-a84e66a09676"
      },
      "execution_count": 9,
      "outputs": [
        {
          "output_type": "execute_result",
          "data": {
            "text/plain": [
              "                               Open     Close  daily_return\n",
              "Date                                                       \n",
              "2022-01-04 00:00:00-05:00  6.984145  7.001583      0.249682\n",
              "2022-01-05 00:00:00-05:00  7.001583  7.001583      0.000000\n",
              "2022-01-06 00:00:00-05:00  7.010303  7.036460      0.373131\n",
              "2022-01-07 00:00:00-05:00  7.036461  7.071338      0.495662\n",
              "2022-01-10 00:00:00-05:00  7.071338  7.062620     -0.123296"
            ],
            "text/html": [
              "\n",
              "  <div id=\"df-fc946e93-447f-4dc8-a242-e1744bf2c7de\">\n",
              "    <div class=\"colab-df-container\">\n",
              "      <div>\n",
              "<style scoped>\n",
              "    .dataframe tbody tr th:only-of-type {\n",
              "        vertical-align: middle;\n",
              "    }\n",
              "\n",
              "    .dataframe tbody tr th {\n",
              "        vertical-align: top;\n",
              "    }\n",
              "\n",
              "    .dataframe thead th {\n",
              "        text-align: right;\n",
              "    }\n",
              "</style>\n",
              "<table border=\"1\" class=\"dataframe\">\n",
              "  <thead>\n",
              "    <tr style=\"text-align: right;\">\n",
              "      <th></th>\n",
              "      <th>Open</th>\n",
              "      <th>Close</th>\n",
              "      <th>daily_return</th>\n",
              "    </tr>\n",
              "    <tr>\n",
              "      <th>Date</th>\n",
              "      <th></th>\n",
              "      <th></th>\n",
              "      <th></th>\n",
              "    </tr>\n",
              "  </thead>\n",
              "  <tbody>\n",
              "    <tr>\n",
              "      <th>2022-01-04 00:00:00-05:00</th>\n",
              "      <td>6.984145</td>\n",
              "      <td>7.001583</td>\n",
              "      <td>0.249682</td>\n",
              "    </tr>\n",
              "    <tr>\n",
              "      <th>2022-01-05 00:00:00-05:00</th>\n",
              "      <td>7.001583</td>\n",
              "      <td>7.001583</td>\n",
              "      <td>0.000000</td>\n",
              "    </tr>\n",
              "    <tr>\n",
              "      <th>2022-01-06 00:00:00-05:00</th>\n",
              "      <td>7.010303</td>\n",
              "      <td>7.036460</td>\n",
              "      <td>0.373131</td>\n",
              "    </tr>\n",
              "    <tr>\n",
              "      <th>2022-01-07 00:00:00-05:00</th>\n",
              "      <td>7.036461</td>\n",
              "      <td>7.071338</td>\n",
              "      <td>0.495662</td>\n",
              "    </tr>\n",
              "    <tr>\n",
              "      <th>2022-01-10 00:00:00-05:00</th>\n",
              "      <td>7.071338</td>\n",
              "      <td>7.062620</td>\n",
              "      <td>-0.123296</td>\n",
              "    </tr>\n",
              "  </tbody>\n",
              "</table>\n",
              "</div>\n",
              "      <button class=\"colab-df-convert\" onclick=\"convertToInteractive('df-fc946e93-447f-4dc8-a242-e1744bf2c7de')\"\n",
              "              title=\"Convert this dataframe to an interactive table.\"\n",
              "              style=\"display:none;\">\n",
              "        \n",
              "  <svg xmlns=\"http://www.w3.org/2000/svg\" height=\"24px\"viewBox=\"0 0 24 24\"\n",
              "       width=\"24px\">\n",
              "    <path d=\"M0 0h24v24H0V0z\" fill=\"none\"/>\n",
              "    <path d=\"M18.56 5.44l.94 2.06.94-2.06 2.06-.94-2.06-.94-.94-2.06-.94 2.06-2.06.94zm-11 1L8.5 8.5l.94-2.06 2.06-.94-2.06-.94L8.5 2.5l-.94 2.06-2.06.94zm10 10l.94 2.06.94-2.06 2.06-.94-2.06-.94-.94-2.06-.94 2.06-2.06.94z\"/><path d=\"M17.41 7.96l-1.37-1.37c-.4-.4-.92-.59-1.43-.59-.52 0-1.04.2-1.43.59L10.3 9.45l-7.72 7.72c-.78.78-.78 2.05 0 2.83L4 21.41c.39.39.9.59 1.41.59.51 0 1.02-.2 1.41-.59l7.78-7.78 2.81-2.81c.8-.78.8-2.07 0-2.86zM5.41 20L4 18.59l7.72-7.72 1.47 1.35L5.41 20z\"/>\n",
              "  </svg>\n",
              "      </button>\n",
              "      \n",
              "  <style>\n",
              "    .colab-df-container {\n",
              "      display:flex;\n",
              "      flex-wrap:wrap;\n",
              "      gap: 12px;\n",
              "    }\n",
              "\n",
              "    .colab-df-convert {\n",
              "      background-color: #E8F0FE;\n",
              "      border: none;\n",
              "      border-radius: 50%;\n",
              "      cursor: pointer;\n",
              "      display: none;\n",
              "      fill: #1967D2;\n",
              "      height: 32px;\n",
              "      padding: 0 0 0 0;\n",
              "      width: 32px;\n",
              "    }\n",
              "\n",
              "    .colab-df-convert:hover {\n",
              "      background-color: #E2EBFA;\n",
              "      box-shadow: 0px 1px 2px rgba(60, 64, 67, 0.3), 0px 1px 3px 1px rgba(60, 64, 67, 0.15);\n",
              "      fill: #174EA6;\n",
              "    }\n",
              "\n",
              "    [theme=dark] .colab-df-convert {\n",
              "      background-color: #3B4455;\n",
              "      fill: #D2E3FC;\n",
              "    }\n",
              "\n",
              "    [theme=dark] .colab-df-convert:hover {\n",
              "      background-color: #434B5C;\n",
              "      box-shadow: 0px 1px 3px 1px rgba(0, 0, 0, 0.15);\n",
              "      filter: drop-shadow(0px 1px 2px rgba(0, 0, 0, 0.3));\n",
              "      fill: #FFFFFF;\n",
              "    }\n",
              "  </style>\n",
              "\n",
              "      <script>\n",
              "        const buttonEl =\n",
              "          document.querySelector('#df-fc946e93-447f-4dc8-a242-e1744bf2c7de button.colab-df-convert');\n",
              "        buttonEl.style.display =\n",
              "          google.colab.kernel.accessAllowed ? 'block' : 'none';\n",
              "\n",
              "        async function convertToInteractive(key) {\n",
              "          const element = document.querySelector('#df-fc946e93-447f-4dc8-a242-e1744bf2c7de');\n",
              "          const dataTable =\n",
              "            await google.colab.kernel.invokeFunction('convertToInteractive',\n",
              "                                                     [key], {});\n",
              "          if (!dataTable) return;\n",
              "\n",
              "          const docLinkHtml = 'Like what you see? Visit the ' +\n",
              "            '<a target=\"_blank\" href=https://colab.research.google.com/notebooks/data_table.ipynb>data table notebook</a>'\n",
              "            + ' to learn more about interactive tables.';\n",
              "          element.innerHTML = '';\n",
              "          dataTable['output_type'] = 'display_data';\n",
              "          await google.colab.output.renderOutput(dataTable, element);\n",
              "          const docLink = document.createElement('div');\n",
              "          docLink.innerHTML = docLinkHtml;\n",
              "          element.appendChild(docLink);\n",
              "        }\n",
              "      </script>\n",
              "    </div>\n",
              "  </div>\n",
              "  "
            ]
          },
          "metadata": {},
          "execution_count": 9
        }
      ]
    },
    {
      "cell_type": "code",
      "source": [
        "# plotting first histogram\n",
        "plt.hist(df.daily_return, label='VUN.TO',bins = 50)\n",
        " \n",
        "# plotting second histogram\n",
        "plt.hist(df2.daily_return, label='DFN.TO', bins = 50)\n",
        "plt.legend()\n",
        " \n",
        "# Showing the plot using plt.show()\n",
        "plt.show()"
      ],
      "metadata": {
        "colab": {
          "base_uri": "https://localhost:8080/",
          "height": 483
        },
        "id": "HOAojAAv9qlL",
        "outputId": "3dacce2a-f205-4afc-b2fb-206343466cc1"
      },
      "execution_count": 70,
      "outputs": [
        {
          "output_type": "display_data",
          "data": {
            "text/plain": [
              "<Figure size 1152x576 with 1 Axes>"
            ],
            "image/png": "[encoded data removed]"
          },
          "metadata": {
            "needs_background": "light"
          }
        }
      ]
    },
    {
      "cell_type": "code",
      "source": [
        "# using seaborn\n",
        "sns.kdeplot(df.daily_return.dropna().to_numpy(), label = 'VUN.TO')\n",
        "sns.kdeplot(df2.daily_return.dropna().to_numpy(), label = 'DFN.TO')\n",
        "plt.legend()\n",
        "plt.show()"
      ],
      "metadata": {
        "colab": {
          "base_uri": "https://localhost:8080/",
          "height": 483
        },
        "id": "O3XPydX9H0eC",
        "outputId": "aa5e492e-f31e-4575-f336-7e44925e7f5e"
      },
      "execution_count": 85,
      "outputs": [
        {
          "output_type": "display_data",
          "data": {
            "text/plain": [
              "<Figure size 1152x576 with 1 Axes>"
            ],
            "image/png": "[encoded data removed]"
          },
          "metadata": {
            "needs_background": "light"
          }
        }
      ]
    },
    {
      "cell_type": "code",
      "source": [
        "# print etf summary\n",
        "print('VUN.TO average daily return YTD in basis points units :', df['daily_return'].mean())\n",
        "print('VUN.TO YTD standard deviation in basis points units :',df['daily_return'].std(skipna = True, ddof = 1))\n",
        "\n",
        "print('DFN.TO average daily return YTD in basis points units :',df2['daily_return'].mean())\n",
        "print('DFN.TO YTD standard deviation in basis points units :',df2['daily_return'].std(skipna = True, ddof = 1))"
      ],
      "metadata": {
        "colab": {
          "base_uri": "https://localhost:8080/"
        },
        "id": "th_kg5EY_PRQ",
        "outputId": "eddcef1e-706e-4d13-871a-ffce94968ae8"
      },
      "execution_count": 11,
      "outputs": [
        {
          "output_type": "stream",
          "name": "stdout",
          "text": [
            "VUN.TO average daily return YTD in basis points units : -0.058879581907700214\n",
            "VUN.TO YTD standard deviation in basis points units : 1.0900292999841825\n",
            "DFN.TO average daily return YTD in basis points units : -0.028237888314452595\n",
            "DFN.TO YTD standard deviation in basis points units : 1.1250049202465873\n"
          ]
        }
      ]
    },
    {
      "cell_type": "markdown",
      "source": [
        "# Are the data normally distributed?"
      ],
      "metadata": {
        "id": "lzovgJ681py0"
      }
    },
    {
      "cell_type": "code",
      "source": [
        "# Kolmogorov-Smirnov test for goodness of fit for VUN.TO.\n",
        "_,p_value = kstest(df.daily_return, stats.norm.cdf)\n",
        "print(\"The p value is \", p_value)\n",
        "\n",
        "if p_value < 0.05:\n",
        "  print(\"\\nReject the null hypothesis. Therefore, The two distributions are not identical i.e. not normal, F(x)!= G(x) for all x.\")\n",
        "else:\n",
        "  print('\\nFail to reject the null hypothesis. Therefore, the two distributions are identical i.e. normal, F(x)= G(x) for all x')"
      ],
      "metadata": {
        "colab": {
          "base_uri": "https://localhost:8080/"
        },
        "id": "YRzRiQMS1oJQ",
        "outputId": "ba4059c1-2009-4431-d94a-abc4ff5aeff5"
      },
      "execution_count": 67,
      "outputs": [
        {
          "output_type": "stream",
          "name": "stdout",
          "text": [
            "The p value is  0.2878821054921761\n",
            "\n",
            "Fail to reject the null hypothesis. Therefore, the two distributions are identical, F(x)= G(x) for all x\n"
          ]
        }
      ]
    },
    {
      "cell_type": "code",
      "source": [
        "# Kolmogorov-Smirnov test for goodness of fit for DFN.TO.\n",
        "_,p_value = kstest(df2.daily_return, stats.norm.cdf)\n",
        "print(\"The p value is \", p_value)\n",
        "\n",
        "if p_value < 0.05:\n",
        "  print(\"Reject the null hypothesis. Therefore, The two distributions are not identical i.e. not normal, F(x)!= G(x) for all x.\")\n",
        "else:\n",
        "  print('Fail to reject the null hypothesis. Therefore, the two distributions are identical i.e.normal, F(x)= G(x) for all x')"
      ],
      "metadata": {
        "colab": {
          "base_uri": "https://localhost:8080/"
        },
        "id": "kQBZ9caz4AqS",
        "outputId": "73346e2d-c70f-4aae-ca82-469e696f2223"
      },
      "execution_count": 69,
      "outputs": [
        {
          "output_type": "stream",
          "name": "stdout",
          "text": [
            "The p value is  0.039822105601467594\n",
            "Reject the null hypothesis. Therefore, The two distributions are not identical i.e. not noral, F(x)!= G(x) for all x.\n"
          ]
        }
      ]
    },
    {
      "cell_type": "markdown",
      "source": [
        "# Is the mean daily stock return zero or not? How significant is the result?"
      ],
      "metadata": {
        "id": "x5dblv1fpNgC"
      }
    },
    {
      "cell_type": "code",
      "source": [
        "def hyp_testing(data, pop_mean = 0 ,alpha = 0.01, test = 'one_sample', test_type = 'two_sided' ):\n",
        "\n",
        "  if test == 'one_sample' and test_type == 'two_sided':\n",
        "    print(\"The average or mean of the random varaible investigated is \", data.mean())\n",
        "    print(\"The standard deviation of the random varaible of interest is \", data.std())\n",
        "    t_stats, p_value =  ttest_1samp(data, popmean = pop_mean)\n",
        "    CI = 100 - (alpha * 100)\n",
        "    if p_value <= alpha :\n",
        "\n",
        "      print(\"Reject the null hypothesis i.e. H0!The result is statisticially significant at {}% confidence interval\".format(CI))\n",
        "     \n",
        "    else:\n",
        "      print(\"Fail to reject the null hypothesis i.e. H0 at a {}% confidence interval\". format (CI))\n",
        "      "
      ],
      "metadata": {
        "id": "4nuONZv7sN3l"
      },
      "execution_count": 56,
      "outputs": []
    },
    {
      "cell_type": "code",
      "source": [
        "# VUN.TO t test: 1 sample ;2-sided test using a 1% significant threshold\n",
        "# H0: average daily return of VUN.TO = 0\n",
        "# h1: average daily return of VUN.TO != 0\n",
        "hyp_testing(df.daily_return.values, pop_mean = 0, alpha = 0.01, test = 'one_sample', test_type = 'two_sided' )"
      ],
      "metadata": {
        "colab": {
          "base_uri": "https://localhost:8080/"
        },
        "id": "MQfkmYIBpMfB",
        "outputId": "80bdf2e4-2b54-4f96-defa-368763ca5f79"
      },
      "execution_count": 57,
      "outputs": [
        {
          "output_type": "stream",
          "name": "stdout",
          "text": [
            "The average or mean of the random varaible investigated is  -0.058879581907700214\n",
            "The standard deviation of the random varaible of interest is  1.0878294404261089\n",
            "Fail to reject the null hypothesis i.e. H0 at a 99.0% confidence interval\n"
          ]
        }
      ]
    },
    {
      "cell_type": "code",
      "source": [
        "# using statsmodel z test function\n",
        "ztest(df.daily_return.values, value = 0)"
      ],
      "metadata": {
        "colab": {
          "base_uri": "https://localhost:8080/"
        },
        "id": "Mm28TYFVDdoR",
        "outputId": "833b59ac-c4ef-4326-d346-a7a35eb48aae"
      },
      "execution_count": 81,
      "outputs": [
        {
          "output_type": "execute_result",
          "data": {
            "text/plain": [
              "(-0.8506528981679343, 0.39496219533034305)"
            ]
          },
          "metadata": {},
          "execution_count": 81
        }
      ]
    },
    {
      "cell_type": "code",
      "source": [
        "# using statsmodel z test function\n",
        "ztest(df.daily_return.values, alternative= 'larger')"
      ],
      "metadata": {
        "colab": {
          "base_uri": "https://localhost:8080/"
        },
        "id": "hzy7V8GtEPJ-",
        "outputId": "883eb17f-fc2d-41fc-b30c-ce3d88cbade6"
      },
      "execution_count": 80,
      "outputs": [
        {
          "output_type": "execute_result",
          "data": {
            "text/plain": [
              "(-0.8506528981679343, 0.8025189023348285)"
            ]
          },
          "metadata": {},
          "execution_count": 80
        }
      ]
    },
    {
      "cell_type": "code",
      "source": [
        "# estimate the z score\n",
        "N = len(df.daily_return.values)\n",
        "mui = df.daily_return.mean()\n",
        "std = df.daily_return.std()\n",
        "z_score = (mui - 0)/(std/ np.sqrt(N))\n",
        "print(\"Z-score is\", z_score)"
      ],
      "metadata": {
        "colab": {
          "base_uri": "https://localhost:8080/"
        },
        "id": "iyZwXOAI-OWF",
        "outputId": "216f0d5e-21f1-43e4-f2f4-1ecad1487858"
      },
      "execution_count": 72,
      "outputs": [
        {
          "output_type": "stream",
          "name": "stdout",
          "text": [
            "Z-score is -0.8506528981679345\n"
          ]
        }
      ]
    },
    {
      "cell_type": "code",
      "source": [
        "# DFN.TO t test: 1 sample ;2-sided test using a 1% significant threshold\n",
        "# H0: average daily return of DFN.TO = 0\n",
        "# h1: average daily return of DFN.TO != 0\n",
        "hyp_testing(df2.daily_return.values, pop_mean = 0, alpha = 0.01, test = 'one_sample', test_type = 'two_sided' )"
      ],
      "metadata": {
        "colab": {
          "base_uri": "https://localhost:8080/"
        },
        "id": "2hq6-48VvRFq",
        "outputId": "809e7252-028c-44c0-ba0a-036c04a2b9bc"
      },
      "execution_count": 58,
      "outputs": [
        {
          "output_type": "stream",
          "name": "stdout",
          "text": [
            "The average or mean of the random varaible investigated is  -0.028237888314452595\n",
            "The standard deviation of the random varaible of interest is  1.1227344740973688\n",
            "Fail to reject the null hypothesis i.e. H0 at a 99.0% confidence interval\n"
          ]
        }
      ]
    },
    {
      "cell_type": "code",
      "source": [
        "# using statsmodel z test function\n",
        "ztest(df2.daily_return.values)"
      ],
      "metadata": {
        "colab": {
          "base_uri": "https://localhost:8080/"
        },
        "id": "i0mdTjfDECzr",
        "outputId": "2cc5fe7e-1825-4c39-ff9a-d4cd724c2f87"
      },
      "execution_count": 79,
      "outputs": [
        {
          "output_type": "execute_result",
          "data": {
            "text/plain": [
              "(-0.39527890221978845, 0.6926370679098112)"
            ]
          },
          "metadata": {},
          "execution_count": 79
        }
      ]
    },
    {
      "cell_type": "code",
      "source": [
        "# estimate the z score\n",
        "N = len(df2.daily_return.values)\n",
        "mui = df2.daily_return.mean()\n",
        "std = df2.daily_return.std()\n",
        "z_score = (mui - 0)/(std/ np.sqrt(N))\n",
        "print(\"Z-score is\", z_score)"
      ],
      "metadata": {
        "colab": {
          "base_uri": "https://localhost:8080/"
        },
        "id": "vguKGhxY_BBC",
        "outputId": "a74857cb-abc8-4e22-a2f0-f5a47626cf21"
      },
      "execution_count": 73,
      "outputs": [
        {
          "output_type": "stream",
          "name": "stdout",
          "text": [
            "Z-score is -0.39527890221978845\n"
          ]
        }
      ]
    },
    {
      "cell_type": "markdown",
      "source": [
        "# Compare both ETFs"
      ],
      "metadata": {
        "id": "uOwS251PFWV0"
      }
    },
    {
      "cell_type": "code",
      "source": [
        "ztest(df.daily_return.values, df2.daily_return.values)"
      ],
      "metadata": {
        "colab": {
          "base_uri": "https://localhost:8080/"
        },
        "id": "QD5jQQtYFa03",
        "outputId": "56293e19-e600-4ad1-cd1f-c6f19d67846c"
      },
      "execution_count": 82,
      "outputs": [
        {
          "output_type": "execute_result",
          "data": {
            "text/plain": [
              "(-0.3080484512317893, 0.7580454649661335)"
            ]
          },
          "metadata": {},
          "execution_count": 82
        }
      ]
    }
  ]
}