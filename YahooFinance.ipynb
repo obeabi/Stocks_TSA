{
  "nbformat": 4,
  "nbformat_minor": 0,
  "metadata": {
    "colab": {
      "provenance": [],
      "authorship_tag": "ABX9TyMHm0Fd30r7A9bTHAxnR2sd",
      "include_colab_link": true
    },
    "kernelspec": {
      "name": "python3",
      "display_name": "Python 3"
    },
    "language_info": {
      "name": "python"
    }
  },
  "cells": [
    {
      "cell_type": "markdown",
      "metadata": {
        "id": "view-in-github",
        "colab_type": "text"
      },
      "source": [
        "<a href=\"https://colab.research.google.com/github/obeabi/Stocks_TSA/blob/main/YahooFinance.ipynb\" target=\"_parent\"><img src=\"https://colab.research.google.com/assets/colab-badge.svg\" alt=\"Open In Colab\"/></a>"
      ]
    },
    {
      "cell_type": "code",
      "execution_count": 1,
      "metadata": {
        "colab": {
          "base_uri": "https://localhost:8080/"
        },
        "id": "VsoK4nUUZ2dT",
        "outputId": "12250a22-b6a9-4709-e53d-13d21466b0ca"
      },
      "outputs": [
        {
          "output_type": "stream",
          "name": "stdout",
          "text": [
            "Looking in indexes: https://pypi.org/simple, https://us-python.pkg.dev/colab-wheels/public/simple/\n",
            "Collecting yfinance\n",
            "  Downloading yfinance-0.1.79-py2.py3-none-any.whl (29 kB)\n",
            "Requirement already satisfied: multitasking>=0.0.7 in /usr/local/lib/python3.7/dist-packages (from yfinance) (0.0.11)\n",
            "Requirement already satisfied: numpy>=1.15 in /usr/local/lib/python3.7/dist-packages (from yfinance) (1.21.6)\n",
            "Requirement already satisfied: appdirs>=1.4.4 in /usr/local/lib/python3.7/dist-packages (from yfinance) (1.4.4)\n",
            "Requirement already satisfied: pandas>=0.24.0 in /usr/local/lib/python3.7/dist-packages (from yfinance) (1.3.5)\n",
            "Requirement already satisfied: lxml>=4.5.1 in /usr/local/lib/python3.7/dist-packages (from yfinance) (4.9.1)\n",
            "Collecting requests>=2.26\n",
            "  Downloading requests-2.28.1-py3-none-any.whl (62 kB)\n",
            "\u001b[K     |████████████████████████████████| 62 kB 1.4 MB/s \n",
            "\u001b[?25hRequirement already satisfied: python-dateutil>=2.7.3 in /usr/local/lib/python3.7/dist-packages (from pandas>=0.24.0->yfinance) (2.8.2)\n",
            "Requirement already satisfied: pytz>=2017.3 in /usr/local/lib/python3.7/dist-packages (from pandas>=0.24.0->yfinance) (2022.4)\n",
            "Requirement already satisfied: six>=1.5 in /usr/local/lib/python3.7/dist-packages (from python-dateutil>=2.7.3->pandas>=0.24.0->yfinance) (1.15.0)\n",
            "Requirement already satisfied: urllib3<1.27,>=1.21.1 in /usr/local/lib/python3.7/dist-packages (from requests>=2.26->yfinance) (1.24.3)\n",
            "Requirement already satisfied: charset-normalizer<3,>=2 in /usr/local/lib/python3.7/dist-packages (from requests>=2.26->yfinance) (2.1.1)\n",
            "Requirement already satisfied: idna<4,>=2.5 in /usr/local/lib/python3.7/dist-packages (from requests>=2.26->yfinance) (2.10)\n",
            "Requirement already satisfied: certifi>=2017.4.17 in /usr/local/lib/python3.7/dist-packages (from requests>=2.26->yfinance) (2022.9.24)\n",
            "Installing collected packages: requests, yfinance\n",
            "  Attempting uninstall: requests\n",
            "    Found existing installation: requests 2.23.0\n",
            "    Uninstalling requests-2.23.0:\n",
            "      Successfully uninstalled requests-2.23.0\n",
            "Successfully installed requests-2.28.1 yfinance-0.1.79\n"
          ]
        }
      ],
      "source": [
        "pip install yfinance"
      ]
    },
    {
      "cell_type": "code",
      "source": [
        "# Install libraries\n",
        "import pandas as pd\n",
        "import numpy as np\n",
        "\n",
        "\n",
        "\n",
        "import scipy \n",
        "import seaborn as sns\n",
        "import matplotlib.pyplot as plt\n",
        "from scipy.stats import mannwhitneyu, fisher_exact, ttest_ind\n",
        "from scipy.stats.mstats import ks_twosamp\n",
        "import statsmodels\n",
        "from statsmodels.graphics.mosaicplot import mosaic\n",
        "%matplotlib inline\n",
        "\n",
        "plt.rcParams['figure.figsize'] = (16.0, 8.0) # set default size of plots\n",
        "plt.rcParams['image.interpolation'] = 'nearest'\n",
        "plt.rcParams['image.cmap'] = 'gray'\n",
        "\n",
        "\n",
        "print(\"libraries installed succesfully!\")"
      ],
      "metadata": {
        "colab": {
          "base_uri": "https://localhost:8080/"
        },
        "id": "P8wTBoe4gusT",
        "outputId": "935baf30-c75f-4c61-efb4-39109ee0e452"
      },
      "execution_count": 22,
      "outputs": [
        {
          "output_type": "stream",
          "name": "stdout",
          "text": [
            "libraries installed succesfully!\n"
          ]
        }
      ]
    },
    {
      "cell_type": "code",
      "source": [
        "import yfinance as yahooFinance\n",
        " \n",
        "# Here We are getting Facebook financial information\n",
        "# We need to pass FB as argument for that\n",
        "GetStockInformation = yahooFinance.Ticker(\"VUN.TO\")\n",
        "print(type(GetStockInformation.info))\n",
        " \n",
        "# whole python dictionary is printed here\n",
        "print(GetStockInformation.info)"
      ],
      "metadata": {
        "colab": {
          "base_uri": "https://localhost:8080/"
        },
        "id": "hgsEUYXMaX37",
        "outputId": "b417aa68-e240-4bc0-bcb4-b9503c005fbc"
      },
      "execution_count": 7,
      "outputs": [
        {
          "output_type": "stream",
          "name": "stdout",
          "text": [
            "<class 'dict'>\n",
            "{'exchange': 'TOR', 'shortName': 'VANGUARD US TOTAL MARKET IDX ET', 'longName': 'Vanguard U.S. Total Market Index ETF', 'exchangeTimezoneName': 'America/Toronto', 'exchangeTimezoneShortName': 'EDT', 'isEsgPopulated': False, 'gmtOffSetMilliseconds': '-14400000', 'quoteType': 'ETF', 'symbol': 'VUN.TO', 'messageBoardId': 'finmb_242582003', 'market': 'ca_market', 'annualHoldingsTurnover': None, 'enterpriseToRevenue': None, 'beta3Year': 1.03, 'profitMargins': None, 'enterpriseToEbitda': None, '52WeekChange': None, 'morningStarRiskRating': None, 'forwardEps': None, 'revenueQuarterlyGrowth': None, 'fundInceptionDate': 1375401600, 'annualReportExpenseRatio': None, 'totalAssets': 5036525056, 'bookValue': None, 'fundFamily': 'Vanguard Investments Canada Inc', 'lastFiscalYearEnd': None, 'netIncomeToCommon': None, 'trailingEps': None, 'lastDividendValue': None, 'SandP52WeekChange': None, 'priceToBook': None, 'nextFiscalYearEnd': None, 'yield': 0.0121, 'mostRecentQuarter': None, 'enterpriseValue': None, 'priceHint': 2, 'threeYearAverageReturn': 0.0987, 'lastSplitDate': None, 'lastSplitFactor': None, 'legalType': 'Exchange Traded Fund', 'lastDividendDate': None, 'morningStarOverallRating': None, 'earningsQuarterlyGrowth': None, 'priceToSalesTrailing12Months': None, 'pegRatio': None, 'ytdReturn': None, 'forwardPE': None, 'maxAge': 1, 'lastCapGain': None, 'category': None, 'fiveYearAverageReturn': 0.10569999, 'phone': 'NA', 'longBusinessSummary': 'NA', 'companyOfficers': [], 'previousClose': 68.67, 'regularMarketOpen': 68.6, 'twoHundredDayAverage': 72.71587, 'trailingAnnualDividendYield': None, 'payoutRatio': None, 'volume24Hr': None, 'regularMarketDayHigh': 69.57, 'navPrice': 69.18, 'averageDailyVolume10Day': 45330, 'regularMarketPreviousClose': 68.67, 'fiftyDayAverage': 70.8186, 'trailingAnnualDividendRate': None, 'open': 68.6, 'toCurrency': None, 'averageVolume10days': 45330, 'expireDate': None, 'algorithm': None, 'dividendRate': None, 'exDividendDate': None, 'beta': None, 'circulatingSupply': None, 'startDate': None, 'regularMarketDayLow': 68.25, 'currency': 'CAD', 'regularMarketVolume': 37223, 'lastMarket': None, 'maxSupply': None, 'openInterest': None, 'marketCap': None, 'volumeAllCurrencies': None, 'strikePrice': None, 'averageVolume': 33211, 'dayLow': 68.25, 'ask': 69.54, 'askSize': 0, 'volume': 37223, 'fiftyTwoWeekHigh': 84.79, 'fromCurrency': None, 'fiveYearAvgDividendYield': None, 'fiftyTwoWeekLow': 63.87, 'bid': 69.5, 'tradeable': False, 'dividendYield': None, 'bidSize': 0, 'dayHigh': 69.57, 'coinMarketCapLink': None, 'preferredPosition': None, 'bondPosition': 0, 'convertiblePosition': None, 'sectorWeightings': [{'realestate': 0.0381}, {'consumer_cyclical': 0.1121}, {'basic_materials': 0.024400001}, {'consumer_defensive': 0.0638}, {'technology': 0.2425}, {'communication_services': 0.0757}, {'financial_services': 0.1288}, {'utilities': 0.0241}, {'industrials': 0.091400005}, {'energy': 0.0433}, {'healthcare': 0.1417}], 'holdings': [{'symbol': 'VTI', 'holdingName': 'Vanguard Total Stock Market ETF', 'holdingPercent': 1}], 'bondHoldings': {'maturity': None, 'duration': None, 'creditQuality': None, 'maturityCat': None, 'durationCat': None, 'creditQualityCat': None}, 'bondRatings': [{'bb': 0}, {'aa': 0}, {'aaa': 0}, {'a': 0}, {'other': 0}, {'b': 0}, {'bbb': 0}, {'below_b': 0}, {'us_government': 0}], 'equityHoldings': {'priceToCashflow': 16.72, 'priceToSales': 2.66, 'priceToBookCat': None, 'priceToEarningsCat': None, 'medianMarketCapCat': None, 'threeYearEarningsGrowthCat': None, 'threeYearEarningsGrowth': None, 'medianMarketCap': None, 'priceToEarnings': 17.21, 'priceToBook': 4.02, 'priceToSalesCat': None, 'priceToCashflowCat': None}, 'otherPosition': None, 'cashPosition': None, 'stockPosition': 0.9907, 'regularMarketPrice': 69.55, 'preMarketPrice': None, 'logo_url': ''}\n"
          ]
        }
      ]
    },
    {
      "cell_type": "markdown",
      "source": [
        "## Retrieve financial key metrics like Company Sector, Price Earnings Ratio, and Company Beta from the above dictionary of items easily."
      ],
      "metadata": {
        "id": "X7g1RCnTbN68"
      }
    },
    {
      "cell_type": "code",
      "source": [
        "# display Company Sector/Exchange\n",
        "#print(\"Company Sector : \", GetStockInformation.info['sector'])\n",
        "print(\"Stock Exchange : \", GetStockInformation.info['exchange'])\n",
        "print(\"\\nStock Symbol/Ticker : \", GetStockInformation.info['symbol'])\n",
        "print(\"\\nFull Name of Stock/Etf  :\", GetStockInformation.info['longName'])\n",
        "print(\"\\nQuote Type Stock or Etf?  :\", GetStockInformation.info['quoteType'])\n",
        "print(\"\\nNav Price of Stock or Etf?  :\", GetStockInformation.info['navPrice'])\n",
        "\n",
        "# display Sector Weightings\n",
        "print()\n",
        "print(\"Sector Weightings :\")\n",
        "print(GetStockInformation.info['sectorWeightings'])\n",
        " \n",
        "# display Price Earnings Ratio\n",
        "#print(\"Price Earnings Ratio : \", GetStockInformation.info['trailingPE'])\n",
        "print(\"\\nAverage 10 Day Volume of Stock or Etf?  :\", GetStockInformation.info['averageDailyVolume10Day'])\n",
        " \n",
        "# display Company Beta\n",
        "#print(\" Company Beta : \", GetStockInformation.info['beta'])"
      ],
      "metadata": {
        "colab": {
          "base_uri": "https://localhost:8080/"
        },
        "id": "m-H2eYZzbQZL",
        "outputId": "23f8b280-c2b4-4735-93da-619523dda899"
      },
      "execution_count": 14,
      "outputs": [
        {
          "output_type": "stream",
          "name": "stdout",
          "text": [
            "Stock Exchange :  TOR\n",
            "\n",
            "Stock Symbol/Ticker :  VUN.TO\n",
            "\n",
            "Full Name of Stock/Etf  : Vanguard U.S. Total Market Index ETF\n",
            "\n",
            "Quote Type Stock or Etf?  : ETF\n",
            "\n",
            "Nav Price of Stock or Etf?  : 69.18\n",
            "\n",
            "Sector Weightings :\n",
            "[{'realestate': 0.0381}, {'consumer_cyclical': 0.1121}, {'basic_materials': 0.024400001}, {'consumer_defensive': 0.0638}, {'technology': 0.2425}, {'communication_services': 0.0757}, {'financial_services': 0.1288}, {'utilities': 0.0241}, {'industrials': 0.091400005}, {'energy': 0.0433}, {'healthcare': 0.1417}]\n",
            "\n",
            "Average 10 Day Volume of Stock or Etf?  : 45330\n"
          ]
        }
      ]
    },
    {
      "cell_type": "code",
      "source": [
        "# get all key value pairs that are available\n",
        "for key, value in GetStockInformation.info.items():\n",
        "    print(key, \":\", value)"
      ],
      "metadata": {
        "colab": {
          "base_uri": "https://localhost:8080/"
        },
        "outputId": "76a34c36-4ad2-4630-99aa-43b05fa43ed9",
        "id": "-Wc_1Lmyb3Tb"
      },
      "execution_count": 15,
      "outputs": [
        {
          "output_type": "stream",
          "name": "stdout",
          "text": [
            "exchange : TOR\n",
            "shortName : VANGUARD US TOTAL MARKET IDX ET\n",
            "longName : Vanguard U.S. Total Market Index ETF\n",
            "exchangeTimezoneName : America/Toronto\n",
            "exchangeTimezoneShortName : EDT\n",
            "isEsgPopulated : False\n",
            "gmtOffSetMilliseconds : -14400000\n",
            "quoteType : ETF\n",
            "symbol : VUN.TO\n",
            "messageBoardId : finmb_242582003\n",
            "market : ca_market\n",
            "annualHoldingsTurnover : None\n",
            "enterpriseToRevenue : None\n",
            "beta3Year : 1.03\n",
            "profitMargins : None\n",
            "enterpriseToEbitda : None\n",
            "52WeekChange : None\n",
            "morningStarRiskRating : None\n",
            "forwardEps : None\n",
            "revenueQuarterlyGrowth : None\n",
            "fundInceptionDate : 1375401600\n",
            "annualReportExpenseRatio : None\n",
            "totalAssets : 5036525056\n",
            "bookValue : None\n",
            "fundFamily : Vanguard Investments Canada Inc\n",
            "lastFiscalYearEnd : None\n",
            "netIncomeToCommon : None\n",
            "trailingEps : None\n",
            "lastDividendValue : None\n",
            "SandP52WeekChange : None\n",
            "priceToBook : None\n",
            "nextFiscalYearEnd : None\n",
            "yield : 0.0121\n",
            "mostRecentQuarter : None\n",
            "enterpriseValue : None\n",
            "priceHint : 2\n",
            "threeYearAverageReturn : 0.0987\n",
            "lastSplitDate : None\n",
            "lastSplitFactor : None\n",
            "legalType : Exchange Traded Fund\n",
            "lastDividendDate : None\n",
            "morningStarOverallRating : None\n",
            "earningsQuarterlyGrowth : None\n",
            "priceToSalesTrailing12Months : None\n",
            "pegRatio : None\n",
            "ytdReturn : None\n",
            "forwardPE : None\n",
            "maxAge : 1\n",
            "lastCapGain : None\n",
            "category : None\n",
            "fiveYearAverageReturn : 0.10569999\n",
            "phone : NA\n",
            "longBusinessSummary : NA\n",
            "companyOfficers : []\n",
            "previousClose : 68.67\n",
            "regularMarketOpen : 68.6\n",
            "twoHundredDayAverage : 72.71587\n",
            "trailingAnnualDividendYield : None\n",
            "payoutRatio : None\n",
            "volume24Hr : None\n",
            "regularMarketDayHigh : 69.57\n",
            "navPrice : 69.18\n",
            "averageDailyVolume10Day : 45330\n",
            "regularMarketPreviousClose : 68.67\n",
            "fiftyDayAverage : 70.8186\n",
            "trailingAnnualDividendRate : None\n",
            "open : 68.6\n",
            "toCurrency : None\n",
            "averageVolume10days : 45330\n",
            "expireDate : None\n",
            "algorithm : None\n",
            "dividendRate : None\n",
            "exDividendDate : None\n",
            "beta : None\n",
            "circulatingSupply : None\n",
            "startDate : None\n",
            "regularMarketDayLow : 68.25\n",
            "currency : CAD\n",
            "regularMarketVolume : 37223\n",
            "lastMarket : None\n",
            "maxSupply : None\n",
            "openInterest : None\n",
            "marketCap : None\n",
            "volumeAllCurrencies : None\n",
            "strikePrice : None\n",
            "averageVolume : 33211\n",
            "dayLow : 68.25\n",
            "ask : 69.54\n",
            "askSize : 0\n",
            "volume : 37223\n",
            "fiftyTwoWeekHigh : 84.79\n",
            "fromCurrency : None\n",
            "fiveYearAvgDividendYield : None\n",
            "fiftyTwoWeekLow : 63.87\n",
            "bid : 69.5\n",
            "tradeable : False\n",
            "dividendYield : None\n",
            "bidSize : 0\n",
            "dayHigh : 69.57\n",
            "coinMarketCapLink : None\n",
            "preferredPosition : None\n",
            "bondPosition : 0\n",
            "convertiblePosition : None\n",
            "sectorWeightings : [{'realestate': 0.0381}, {'consumer_cyclical': 0.1121}, {'basic_materials': 0.024400001}, {'consumer_defensive': 0.0638}, {'technology': 0.2425}, {'communication_services': 0.0757}, {'financial_services': 0.1288}, {'utilities': 0.0241}, {'industrials': 0.091400005}, {'energy': 0.0433}, {'healthcare': 0.1417}]\n",
            "holdings : [{'symbol': 'VTI', 'holdingName': 'Vanguard Total Stock Market ETF', 'holdingPercent': 1}]\n",
            "bondHoldings : {'maturity': None, 'duration': None, 'creditQuality': None, 'maturityCat': None, 'durationCat': None, 'creditQualityCat': None}\n",
            "bondRatings : [{'bb': 0}, {'aa': 0}, {'aaa': 0}, {'a': 0}, {'other': 0}, {'b': 0}, {'bbb': 0}, {'below_b': 0}, {'us_government': 0}]\n",
            "equityHoldings : {'priceToCashflow': 16.72, 'priceToSales': 2.66, 'priceToBookCat': None, 'priceToEarningsCat': None, 'medianMarketCapCat': None, 'threeYearEarningsGrowthCat': None, 'threeYearEarningsGrowth': None, 'medianMarketCap': None, 'priceToEarnings': 17.21, 'priceToBook': 4.02, 'priceToSalesCat': None, 'priceToCashflowCat': None}\n",
            "otherPosition : None\n",
            "cashPosition : None\n",
            "stockPosition : 0.9907\n",
            "regularMarketPrice : 69.55\n",
            "preMarketPrice : None\n",
            "logo_url : \n"
          ]
        }
      ]
    },
    {
      "cell_type": "markdown",
      "source": [
        "## Retrieve historical market prices too and display them."
      ],
      "metadata": {
        "id": "Tao4lypNfI3T"
      }
    },
    {
      "cell_type": "code",
      "source": [
        "# Valid options are 1d, 5d, 1mo, 3mo, 6mo, 1y, 2y,\n",
        "# 5y, 10y and ytd.\n",
        "df = GetStockInformation.history(period=\"max\")\n",
        "df.head()"
      ],
      "metadata": {
        "colab": {
          "base_uri": "https://localhost:8080/",
          "height": 237
        },
        "id": "54zxBMUxfLqF",
        "outputId": "05a43e89-23f6-4298-e0a0-a4e15ffbece7"
      },
      "execution_count": 18,
      "outputs": [
        {
          "output_type": "execute_result",
          "data": {
            "text/plain": [
              "                                Open       High        Low      Close  Volume  \\\n",
              "Date                                                                            \n",
              "2013-08-12 00:00:00-04:00  21.673933  21.673933  21.656277  21.673933    7300   \n",
              "2013-08-13 00:00:00-04:00  21.815194  21.824022  21.762223  21.824022    2100   \n",
              "2013-08-14 00:00:00-04:00  21.779880  21.779880  21.673938  21.691595    6300   \n",
              "2013-08-15 00:00:00-04:00  21.541507  21.541507  21.311966  21.311966    8400   \n",
              "2013-08-16 00:00:00-04:00  21.364938  21.426737  21.285482  21.311966    5400   \n",
              "\n",
              "                           Dividends  Stock Splits  \n",
              "Date                                                \n",
              "2013-08-12 00:00:00-04:00        0.0             0  \n",
              "2013-08-13 00:00:00-04:00        0.0             0  \n",
              "2013-08-14 00:00:00-04:00        0.0             0  \n",
              "2013-08-15 00:00:00-04:00        0.0             0  \n",
              "2013-08-16 00:00:00-04:00        0.0             0  "
            ],
            "text/html": [
              "\n",
              "  <div id=\"df-c4d7a415-2974-4884-8298-f0e2d2850373\">\n",
              "    <div class=\"colab-df-container\">\n",
              "      <div>\n",
              "<style scoped>\n",
              "    .dataframe tbody tr th:only-of-type {\n",
              "        vertical-align: middle;\n",
              "    }\n",
              "\n",
              "    .dataframe tbody tr th {\n",
              "        vertical-align: top;\n",
              "    }\n",
              "\n",
              "    .dataframe thead th {\n",
              "        text-align: right;\n",
              "    }\n",
              "</style>\n",
              "<table border=\"1\" class=\"dataframe\">\n",
              "  <thead>\n",
              "    <tr style=\"text-align: right;\">\n",
              "      <th></th>\n",
              "      <th>Open</th>\n",
              "      <th>High</th>\n",
              "      <th>Low</th>\n",
              "      <th>Close</th>\n",
              "      <th>Volume</th>\n",
              "      <th>Dividends</th>\n",
              "      <th>Stock Splits</th>\n",
              "    </tr>\n",
              "    <tr>\n",
              "      <th>Date</th>\n",
              "      <th></th>\n",
              "      <th></th>\n",
              "      <th></th>\n",
              "      <th></th>\n",
              "      <th></th>\n",
              "      <th></th>\n",
              "      <th></th>\n",
              "    </tr>\n",
              "  </thead>\n",
              "  <tbody>\n",
              "    <tr>\n",
              "      <th>2013-08-12 00:00:00-04:00</th>\n",
              "      <td>21.673933</td>\n",
              "      <td>21.673933</td>\n",
              "      <td>21.656277</td>\n",
              "      <td>21.673933</td>\n",
              "      <td>7300</td>\n",
              "      <td>0.0</td>\n",
              "      <td>0</td>\n",
              "    </tr>\n",
              "    <tr>\n",
              "      <th>2013-08-13 00:00:00-04:00</th>\n",
              "      <td>21.815194</td>\n",
              "      <td>21.824022</td>\n",
              "      <td>21.762223</td>\n",
              "      <td>21.824022</td>\n",
              "      <td>2100</td>\n",
              "      <td>0.0</td>\n",
              "      <td>0</td>\n",
              "    </tr>\n",
              "    <tr>\n",
              "      <th>2013-08-14 00:00:00-04:00</th>\n",
              "      <td>21.779880</td>\n",
              "      <td>21.779880</td>\n",
              "      <td>21.673938</td>\n",
              "      <td>21.691595</td>\n",
              "      <td>6300</td>\n",
              "      <td>0.0</td>\n",
              "      <td>0</td>\n",
              "    </tr>\n",
              "    <tr>\n",
              "      <th>2013-08-15 00:00:00-04:00</th>\n",
              "      <td>21.541507</td>\n",
              "      <td>21.541507</td>\n",
              "      <td>21.311966</td>\n",
              "      <td>21.311966</td>\n",
              "      <td>8400</td>\n",
              "      <td>0.0</td>\n",
              "      <td>0</td>\n",
              "    </tr>\n",
              "    <tr>\n",
              "      <th>2013-08-16 00:00:00-04:00</th>\n",
              "      <td>21.364938</td>\n",
              "      <td>21.426737</td>\n",
              "      <td>21.285482</td>\n",
              "      <td>21.311966</td>\n",
              "      <td>5400</td>\n",
              "      <td>0.0</td>\n",
              "      <td>0</td>\n",
              "    </tr>\n",
              "  </tbody>\n",
              "</table>\n",
              "</div>\n",
              "      <button class=\"colab-df-convert\" onclick=\"convertToInteractive('df-c4d7a415-2974-4884-8298-f0e2d2850373')\"\n",
              "              title=\"Convert this dataframe to an interactive table.\"\n",
              "              style=\"display:none;\">\n",
              "        \n",
              "  <svg xmlns=\"http://www.w3.org/2000/svg\" height=\"24px\"viewBox=\"0 0 24 24\"\n",
              "       width=\"24px\">\n",
              "    <path d=\"M0 0h24v24H0V0z\" fill=\"none\"/>\n",
              "    <path d=\"M18.56 5.44l.94 2.06.94-2.06 2.06-.94-2.06-.94-.94-2.06-.94 2.06-2.06.94zm-11 1L8.5 8.5l.94-2.06 2.06-.94-2.06-.94L8.5 2.5l-.94 2.06-2.06.94zm10 10l.94 2.06.94-2.06 2.06-.94-2.06-.94-.94-2.06-.94 2.06-2.06.94z\"/><path d=\"M17.41 7.96l-1.37-1.37c-.4-.4-.92-.59-1.43-.59-.52 0-1.04.2-1.43.59L10.3 9.45l-7.72 7.72c-.78.78-.78 2.05 0 2.83L4 21.41c.39.39.9.59 1.41.59.51 0 1.02-.2 1.41-.59l7.78-7.78 2.81-2.81c.8-.78.8-2.07 0-2.86zM5.41 20L4 18.59l7.72-7.72 1.47 1.35L5.41 20z\"/>\n",
              "  </svg>\n",
              "      </button>\n",
              "      \n",
              "  <style>\n",
              "    .colab-df-container {\n",
              "      display:flex;\n",
              "      flex-wrap:wrap;\n",
              "      gap: 12px;\n",
              "    }\n",
              "\n",
              "    .colab-df-convert {\n",
              "      background-color: #E8F0FE;\n",
              "      border: none;\n",
              "      border-radius: 50%;\n",
              "      cursor: pointer;\n",
              "      display: none;\n",
              "      fill: #1967D2;\n",
              "      height: 32px;\n",
              "      padding: 0 0 0 0;\n",
              "      width: 32px;\n",
              "    }\n",
              "\n",
              "    .colab-df-convert:hover {\n",
              "      background-color: #E2EBFA;\n",
              "      box-shadow: 0px 1px 2px rgba(60, 64, 67, 0.3), 0px 1px 3px 1px rgba(60, 64, 67, 0.15);\n",
              "      fill: #174EA6;\n",
              "    }\n",
              "\n",
              "    [theme=dark] .colab-df-convert {\n",
              "      background-color: #3B4455;\n",
              "      fill: #D2E3FC;\n",
              "    }\n",
              "\n",
              "    [theme=dark] .colab-df-convert:hover {\n",
              "      background-color: #434B5C;\n",
              "      box-shadow: 0px 1px 3px 1px rgba(0, 0, 0, 0.15);\n",
              "      filter: drop-shadow(0px 1px 2px rgba(0, 0, 0, 0.3));\n",
              "      fill: #FFFFFF;\n",
              "    }\n",
              "  </style>\n",
              "\n",
              "      <script>\n",
              "        const buttonEl =\n",
              "          document.querySelector('#df-c4d7a415-2974-4884-8298-f0e2d2850373 button.colab-df-convert');\n",
              "        buttonEl.style.display =\n",
              "          google.colab.kernel.accessAllowed ? 'block' : 'none';\n",
              "\n",
              "        async function convertToInteractive(key) {\n",
              "          const element = document.querySelector('#df-c4d7a415-2974-4884-8298-f0e2d2850373');\n",
              "          const dataTable =\n",
              "            await google.colab.kernel.invokeFunction('convertToInteractive',\n",
              "                                                     [key], {});\n",
              "          if (!dataTable) return;\n",
              "\n",
              "          const docLinkHtml = 'Like what you see? Visit the ' +\n",
              "            '<a target=\"_blank\" href=https://colab.research.google.com/notebooks/data_table.ipynb>data table notebook</a>'\n",
              "            + ' to learn more about interactive tables.';\n",
              "          element.innerHTML = '';\n",
              "          dataTable['output_type'] = 'display_data';\n",
              "          await google.colab.output.renderOutput(dataTable, element);\n",
              "          const docLink = document.createElement('div');\n",
              "          docLink.innerHTML = docLinkHtml;\n",
              "          element.appendChild(docLink);\n",
              "        }\n",
              "      </script>\n",
              "    </div>\n",
              "  </div>\n",
              "  "
            ]
          },
          "metadata": {},
          "execution_count": 18
        }
      ]
    },
    {
      "cell_type": "code",
      "source": [
        "# Focusing on close prIce only\n",
        "df1 = df['Close'].to_frame()\n",
        "df1.head()"
      ],
      "metadata": {
        "colab": {
          "base_uri": "https://localhost:8080/",
          "height": 237
        },
        "id": "4Lq8KJFIf0jy",
        "outputId": "75aa65b4-6b0f-4035-852b-ca6c0211a0e9"
      },
      "execution_count": 19,
      "outputs": [
        {
          "output_type": "execute_result",
          "data": {
            "text/plain": [
              "                               Close\n",
              "Date                                \n",
              "2013-08-12 00:00:00-04:00  21.673933\n",
              "2013-08-13 00:00:00-04:00  21.824022\n",
              "2013-08-14 00:00:00-04:00  21.691595\n",
              "2013-08-15 00:00:00-04:00  21.311966\n",
              "2013-08-16 00:00:00-04:00  21.311966"
            ],
            "text/html": [
              "\n",
              "  <div id=\"df-8ed9096d-189f-4df7-b3bb-42665f3e4b98\">\n",
              "    <div class=\"colab-df-container\">\n",
              "      <div>\n",
              "<style scoped>\n",
              "    .dataframe tbody tr th:only-of-type {\n",
              "        vertical-align: middle;\n",
              "    }\n",
              "\n",
              "    .dataframe tbody tr th {\n",
              "        vertical-align: top;\n",
              "    }\n",
              "\n",
              "    .dataframe thead th {\n",
              "        text-align: right;\n",
              "    }\n",
              "</style>\n",
              "<table border=\"1\" class=\"dataframe\">\n",
              "  <thead>\n",
              "    <tr style=\"text-align: right;\">\n",
              "      <th></th>\n",
              "      <th>Close</th>\n",
              "    </tr>\n",
              "    <tr>\n",
              "      <th>Date</th>\n",
              "      <th></th>\n",
              "    </tr>\n",
              "  </thead>\n",
              "  <tbody>\n",
              "    <tr>\n",
              "      <th>2013-08-12 00:00:00-04:00</th>\n",
              "      <td>21.673933</td>\n",
              "    </tr>\n",
              "    <tr>\n",
              "      <th>2013-08-13 00:00:00-04:00</th>\n",
              "      <td>21.824022</td>\n",
              "    </tr>\n",
              "    <tr>\n",
              "      <th>2013-08-14 00:00:00-04:00</th>\n",
              "      <td>21.691595</td>\n",
              "    </tr>\n",
              "    <tr>\n",
              "      <th>2013-08-15 00:00:00-04:00</th>\n",
              "      <td>21.311966</td>\n",
              "    </tr>\n",
              "    <tr>\n",
              "      <th>2013-08-16 00:00:00-04:00</th>\n",
              "      <td>21.311966</td>\n",
              "    </tr>\n",
              "  </tbody>\n",
              "</table>\n",
              "</div>\n",
              "      <button class=\"colab-df-convert\" onclick=\"convertToInteractive('df-8ed9096d-189f-4df7-b3bb-42665f3e4b98')\"\n",
              "              title=\"Convert this dataframe to an interactive table.\"\n",
              "              style=\"display:none;\">\n",
              "        \n",
              "  <svg xmlns=\"http://www.w3.org/2000/svg\" height=\"24px\"viewBox=\"0 0 24 24\"\n",
              "       width=\"24px\">\n",
              "    <path d=\"M0 0h24v24H0V0z\" fill=\"none\"/>\n",
              "    <path d=\"M18.56 5.44l.94 2.06.94-2.06 2.06-.94-2.06-.94-.94-2.06-.94 2.06-2.06.94zm-11 1L8.5 8.5l.94-2.06 2.06-.94-2.06-.94L8.5 2.5l-.94 2.06-2.06.94zm10 10l.94 2.06.94-2.06 2.06-.94-2.06-.94-.94-2.06-.94 2.06-2.06.94z\"/><path d=\"M17.41 7.96l-1.37-1.37c-.4-.4-.92-.59-1.43-.59-.52 0-1.04.2-1.43.59L10.3 9.45l-7.72 7.72c-.78.78-.78 2.05 0 2.83L4 21.41c.39.39.9.59 1.41.59.51 0 1.02-.2 1.41-.59l7.78-7.78 2.81-2.81c.8-.78.8-2.07 0-2.86zM5.41 20L4 18.59l7.72-7.72 1.47 1.35L5.41 20z\"/>\n",
              "  </svg>\n",
              "      </button>\n",
              "      \n",
              "  <style>\n",
              "    .colab-df-container {\n",
              "      display:flex;\n",
              "      flex-wrap:wrap;\n",
              "      gap: 12px;\n",
              "    }\n",
              "\n",
              "    .colab-df-convert {\n",
              "      background-color: #E8F0FE;\n",
              "      border: none;\n",
              "      border-radius: 50%;\n",
              "      cursor: pointer;\n",
              "      display: none;\n",
              "      fill: #1967D2;\n",
              "      height: 32px;\n",
              "      padding: 0 0 0 0;\n",
              "      width: 32px;\n",
              "    }\n",
              "\n",
              "    .colab-df-convert:hover {\n",
              "      background-color: #E2EBFA;\n",
              "      box-shadow: 0px 1px 2px rgba(60, 64, 67, 0.3), 0px 1px 3px 1px rgba(60, 64, 67, 0.15);\n",
              "      fill: #174EA6;\n",
              "    }\n",
              "\n",
              "    [theme=dark] .colab-df-convert {\n",
              "      background-color: #3B4455;\n",
              "      fill: #D2E3FC;\n",
              "    }\n",
              "\n",
              "    [theme=dark] .colab-df-convert:hover {\n",
              "      background-color: #434B5C;\n",
              "      box-shadow: 0px 1px 3px 1px rgba(0, 0, 0, 0.15);\n",
              "      filter: drop-shadow(0px 1px 2px rgba(0, 0, 0, 0.3));\n",
              "      fill: #FFFFFF;\n",
              "    }\n",
              "  </style>\n",
              "\n",
              "      <script>\n",
              "        const buttonEl =\n",
              "          document.querySelector('#df-8ed9096d-189f-4df7-b3bb-42665f3e4b98 button.colab-df-convert');\n",
              "        buttonEl.style.display =\n",
              "          google.colab.kernel.accessAllowed ? 'block' : 'none';\n",
              "\n",
              "        async function convertToInteractive(key) {\n",
              "          const element = document.querySelector('#df-8ed9096d-189f-4df7-b3bb-42665f3e4b98');\n",
              "          const dataTable =\n",
              "            await google.colab.kernel.invokeFunction('convertToInteractive',\n",
              "                                                     [key], {});\n",
              "          if (!dataTable) return;\n",
              "\n",
              "          const docLinkHtml = 'Like what you see? Visit the ' +\n",
              "            '<a target=\"_blank\" href=https://colab.research.google.com/notebooks/data_table.ipynb>data table notebook</a>'\n",
              "            + ' to learn more about interactive tables.';\n",
              "          element.innerHTML = '';\n",
              "          dataTable['output_type'] = 'display_data';\n",
              "          await google.colab.output.renderOutput(dataTable, element);\n",
              "          const docLink = document.createElement('div');\n",
              "          docLink.innerHTML = docLinkHtml;\n",
              "          element.appendChild(docLink);\n",
              "        }\n",
              "      </script>\n",
              "    </div>\n",
              "  </div>\n",
              "  "
            ]
          },
          "metadata": {},
          "execution_count": 19
        }
      ]
    },
    {
      "cell_type": "code",
      "source": [
        "# Calculate the 50 day moving average of close price\n",
        "df1['SMA50'] = df1['Close'].rolling(50).mean()\n",
        "\n",
        "\n",
        "# Calculate the 100 day moving average of close price\n",
        "df1['SMA100'] = df1['Close'].rolling(100).mean()\n",
        "\n",
        "\n",
        "# Calculate the 150 day moving average of close price\n",
        "df1['SMA150'] = df1['Close'].rolling(150).mean()"
      ],
      "metadata": {
        "id": "GfNJdjk3f-xv"
      },
      "execution_count": 21,
      "outputs": []
    },
    {
      "cell_type": "code",
      "source": [
        "\n",
        "# removing all the NULL values using dropna() method\n",
        "df1.dropna(inplace=True)\n",
        " \n",
        "# plotting Close price and simple\n",
        "# moving average of 30 days using .plot() method\n",
        "df1[['Close', 'SMA50', 'SMA100', 'SMA150']].plot(label='VDY.TO')\n",
        "plt.show()"
      ],
      "metadata": {
        "colab": {
          "base_uri": "https://localhost:8080/",
          "height": 465
        },
        "id": "xbaCuWzjglc4",
        "outputId": "a977ae58-2899-41e7-df4f-09fcee9dac00"
      },
      "execution_count": 23,
      "outputs": [
        {
          "output_type": "display_data",
          "data": {
            "text/plain": [
              "<Figure size 1152x576 with 1 Axes>"
            ],
            "image/png": "[encoded data removed]"
          },
          "metadata": {
            "needs_background": "light"
          }
        }
      ]
    }
  ]
}