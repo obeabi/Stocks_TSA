{
  "nbformat": 4,
  "nbformat_minor": 0,
  "metadata": {
    "colab": {
      "provenance": [],
      "authorship_tag": "ABX9TyNPq9a0AzoaCvVtXIDVzEnZ",
      "include_colab_link": true
    },
    "kernelspec": {
      "name": "python3",
      "display_name": "Python 3"
    },
    "language_info": {
      "name": "python"
    }
  },
  "cells": [
    {
      "cell_type": "markdown",
      "metadata": {
        "id": "view-in-github",
        "colab_type": "text"
      },
      "source": [
        "<a href=\"https://colab.research.google.com/github/obeabi/Stocks_TSA/blob/main/YahooFinance.ipynb\" target=\"_parent\"><img src=\"https://colab.research.google.com/assets/colab-badge.svg\" alt=\"Open In Colab\"/></a>"
      ]
    },
    {
      "cell_type": "code",
      "execution_count": 1,
      "metadata": {
        "colab": {
          "base_uri": "https://localhost:8080/"
        },
        "id": "VsoK4nUUZ2dT",
        "outputId": "66a2ced4-2839-4006-ac4b-9a55542c402b"
      },
      "outputs": [
        {
          "output_type": "stream",
          "name": "stdout",
          "text": [
            "Looking in indexes: https://pypi.org/simple, https://us-python.pkg.dev/colab-wheels/public/simple/\n",
            "Collecting yfinance\n",
            "  Downloading yfinance-0.2.3-py2.py3-none-any.whl (50 kB)\n",
            "\u001b[K     |████████████████████████████████| 50 kB 3.1 MB/s \n",
            "\u001b[?25hRequirement already satisfied: pytz>=2022.5 in /usr/local/lib/python3.8/dist-packages (from yfinance) (2022.6)\n",
            "Collecting frozendict>=2.3.4\n",
            "  Downloading frozendict-2.3.4-cp38-cp38-manylinux_2_17_x86_64.manylinux2014_x86_64.whl (110 kB)\n",
            "\u001b[K     |████████████████████████████████| 110 kB 9.6 MB/s \n",
            "\u001b[?25hRequirement already satisfied: pandas>=1.3.0 in /usr/local/lib/python3.8/dist-packages (from yfinance) (1.3.5)\n",
            "Collecting beautifulsoup4>=4.11.1\n",
            "  Downloading beautifulsoup4-4.11.1-py3-none-any.whl (128 kB)\n",
            "\u001b[K     |████████████████████████████████| 128 kB 58.7 MB/s \n",
            "\u001b[?25hRequirement already satisfied: multitasking>=0.0.7 in /usr/local/lib/python3.8/dist-packages (from yfinance) (0.0.11)\n",
            "Requirement already satisfied: lxml>=4.9.1 in /usr/local/lib/python3.8/dist-packages (from yfinance) (4.9.2)\n",
            "Requirement already satisfied: numpy>=1.16.5 in /usr/local/lib/python3.8/dist-packages (from yfinance) (1.21.6)\n",
            "Requirement already satisfied: appdirs>=1.4.4 in /usr/local/lib/python3.8/dist-packages (from yfinance) (1.4.4)\n",
            "Collecting requests>=2.26\n",
            "  Downloading requests-2.28.1-py3-none-any.whl (62 kB)\n",
            "\u001b[K     |████████████████████████████████| 62 kB 1.6 MB/s \n",
            "\u001b[?25hCollecting html5lib>=1.1\n",
            "  Downloading html5lib-1.1-py2.py3-none-any.whl (112 kB)\n",
            "\u001b[K     |████████████████████████████████| 112 kB 54.9 MB/s \n",
            "\u001b[?25hCollecting cryptography>=3.3.2\n",
            "  Downloading cryptography-38.0.4-cp36-abi3-manylinux_2_24_x86_64.whl (4.0 MB)\n",
            "\u001b[K     |████████████████████████████████| 4.0 MB 41.0 MB/s \n",
            "\u001b[?25hCollecting soupsieve>1.2\n",
            "  Downloading soupsieve-2.3.2.post1-py3-none-any.whl (37 kB)\n",
            "Requirement already satisfied: cffi>=1.12 in /usr/local/lib/python3.8/dist-packages (from cryptography>=3.3.2->yfinance) (1.15.1)\n",
            "Requirement already satisfied: pycparser in /usr/local/lib/python3.8/dist-packages (from cffi>=1.12->cryptography>=3.3.2->yfinance) (2.21)\n",
            "Requirement already satisfied: six>=1.9 in /usr/local/lib/python3.8/dist-packages (from html5lib>=1.1->yfinance) (1.15.0)\n",
            "Requirement already satisfied: webencodings in /usr/local/lib/python3.8/dist-packages (from html5lib>=1.1->yfinance) (0.5.1)\n",
            "Requirement already satisfied: python-dateutil>=2.7.3 in /usr/local/lib/python3.8/dist-packages (from pandas>=1.3.0->yfinance) (2.8.2)\n",
            "Requirement already satisfied: urllib3<1.27,>=1.21.1 in /usr/local/lib/python3.8/dist-packages (from requests>=2.26->yfinance) (1.24.3)\n",
            "Requirement already satisfied: idna<4,>=2.5 in /usr/local/lib/python3.8/dist-packages (from requests>=2.26->yfinance) (2.10)\n",
            "Requirement already satisfied: charset-normalizer<3,>=2 in /usr/local/lib/python3.8/dist-packages (from requests>=2.26->yfinance) (2.1.1)\n",
            "Requirement already satisfied: certifi>=2017.4.17 in /usr/local/lib/python3.8/dist-packages (from requests>=2.26->yfinance) (2022.12.7)\n",
            "Installing collected packages: soupsieve, requests, html5lib, frozendict, cryptography, beautifulsoup4, yfinance\n",
            "  Attempting uninstall: requests\n",
            "    Found existing installation: requests 2.23.0\n",
            "    Uninstalling requests-2.23.0:\n",
            "      Successfully uninstalled requests-2.23.0\n",
            "  Attempting uninstall: html5lib\n",
            "    Found existing installation: html5lib 1.0.1\n",
            "    Uninstalling html5lib-1.0.1:\n",
            "      Successfully uninstalled html5lib-1.0.1\n",
            "  Attempting uninstall: beautifulsoup4\n",
            "    Found existing installation: beautifulsoup4 4.6.3\n",
            "    Uninstalling beautifulsoup4-4.6.3:\n",
            "      Successfully uninstalled beautifulsoup4-4.6.3\n",
            "Successfully installed beautifulsoup4-4.11.1 cryptography-38.0.4 frozendict-2.3.4 html5lib-1.1 requests-2.28.1 soupsieve-2.3.2.post1 yfinance-0.2.3\n"
          ]
        }
      ],
      "source": [
        "pip install yfinance"
      ]
    },
    {
      "cell_type": "code",
      "source": [
        "# Install libraries\n",
        "import pandas as pd\n",
        "import numpy as np\n",
        "\n",
        "\n",
        "\n",
        "import scipy \n",
        "import seaborn as sns\n",
        "import matplotlib.pyplot as plt\n",
        "from scipy.stats import mannwhitneyu, fisher_exact, ttest_ind\n",
        "from scipy.stats.mstats import ks_twosamp\n",
        "import statsmodels\n",
        "from statsmodels.graphics.mosaicplot import mosaic\n",
        "%matplotlib inline\n",
        "\n",
        "plt.rcParams['figure.figsize'] = (16.0, 8.0) # set default size of plots\n",
        "plt.rcParams['image.interpolation'] = 'nearest'\n",
        "plt.rcParams['image.cmap'] = 'gray'\n",
        "\n",
        "\n",
        "print(\"libraries installed succesfully!\")"
      ],
      "metadata": {
        "colab": {
          "base_uri": "https://localhost:8080/"
        },
        "id": "P8wTBoe4gusT",
        "outputId": "f8dc9fd0-dd81-49cd-9c6e-84f9eeca444a"
      },
      "execution_count": 2,
      "outputs": [
        {
          "output_type": "stream",
          "name": "stdout",
          "text": [
            "libraries installed succesfully!\n"
          ]
        }
      ]
    },
    {
      "cell_type": "code",
      "source": [
        "import yfinance as yahooFinance\n",
        " \n",
        "# Here We are getting Facebook financial information\n",
        "# We need to pass FB as argument for that\n",
        "GetStockInformation = yahooFinance.Ticker(\"VUN.TO\")\n",
        "print(type(GetStockInformation.info))\n",
        " \n",
        "# whole python dictionary is printed here\n",
        "print(GetStockInformation.info)"
      ],
      "metadata": {
        "colab": {
          "base_uri": "https://localhost:8080/"
        },
        "id": "hgsEUYXMaX37",
        "outputId": "3de6d701-0665-4289-dec4-9e8d6a2283c2"
      },
      "execution_count": 3,
      "outputs": [
        {
          "output_type": "stream",
          "name": "stdout",
          "text": [
            "<class 'dict'>\n",
            "{'exchange': 'TOR', 'shortName': 'VANGUARD US TOTAL MARKET IDX ET', 'longName': 'Vanguard U.S. Total Market Index ETF', 'exchangeTimezoneName': 'America/Toronto', 'exchangeTimezoneShortName': 'EST', 'isEsgPopulated': False, 'gmtOffSetMilliseconds': '-18000000', 'quoteType': 'ETF', 'symbol': 'VUN.TO', 'messageBoardId': 'finmb_242582003', 'market': 'ca_market', 'annualHoldingsTurnover': None, 'enterpriseToRevenue': None, 'beta3Year': 1.02, 'profitMargins': None, 'enterpriseToEbitda': None, '52WeekChange': None, 'morningStarRiskRating': None, 'forwardEps': None, 'revenueQuarterlyGrowth': None, 'fundInceptionDate': 1375401600, 'annualReportExpenseRatio': None, 'totalAssets': 5595947008, 'bookValue': None, 'fundFamily': 'Vanguard Investments Canada Inc', 'lastFiscalYearEnd': None, 'netIncomeToCommon': None, 'trailingEps': None, 'lastDividendValue': None, 'SandP52WeekChange': None, 'priceToBook': None, 'nextFiscalYearEnd': None, 'yield': 0.011, 'mostRecentQuarter': None, 'enterpriseValue': None, 'priceHint': 2, 'threeYearAverageReturn': 0.078200005, 'lastSplitDate': None, 'lastSplitFactor': None, 'legalType': 'Exchange Traded Fund', 'lastDividendDate': None, 'morningStarOverallRating': None, 'earningsQuarterlyGrowth': None, 'priceToSalesTrailing12Months': None, 'pegRatio': None, 'ytdReturn': None, 'forwardPE': None, 'maxAge': 1, 'lastCapGain': None, 'category': None, 'fiveYearAverageReturn': 0.0968, 'phone': 'NA', 'longBusinessSummary': 'NA', 'companyOfficers': [], 'previousClose': 70.98, 'regularMarketOpen': 70.36, 'twoHundredDayAverage': 71.46448, 'trailingAnnualDividendYield': None, 'payoutRatio': None, 'volume24Hr': None, 'regularMarketDayHigh': 70.5, 'navPrice': 71, 'averageDailyVolume10Day': 55580, 'regularMarketPreviousClose': 70.98, 'fiftyDayAverage': 71.7494, 'trailingAnnualDividendRate': None, 'open': 70.36, 'toCurrency': None, 'averageVolume10days': 55580, 'expireDate': None, 'algorithm': None, 'dividendRate': None, 'exDividendDate': None, 'beta': None, 'circulatingSupply': None, 'startDate': None, 'regularMarketDayLow': 69.85, 'currency': 'CAD', 'regularMarketVolume': 36288, 'lastMarket': None, 'maxSupply': None, 'openInterest': None, 'marketCap': None, 'volumeAllCurrencies': None, 'strikePrice': None, 'averageVolume': 45919, 'dayLow': 69.85, 'ask': 69.97, 'askSize': 0, 'volume': 36288, 'fiftyTwoWeekHigh': 84.79, 'fromCurrency': None, 'fiveYearAvgDividendYield': None, 'fiftyTwoWeekLow': 63.87, 'bid': 69.88, 'tradeable': False, 'dividendYield': None, 'bidSize': 0, 'dayHigh': 70.5, 'coinMarketCapLink': None, 'preferredPosition': None, 'bondPosition': 0, 'convertiblePosition': None, 'sectorWeightings': [{'realestate': 0.0342}, {'consumer_cyclical': 0.10560001}, {'basic_materials': 0.0248}, {'consumer_defensive': 0.0669}, {'technology': 0.2284}, {'communication_services': 0.0673}, {'financial_services': 0.1366}, {'utilities': 0.0241}, {'industrials': 0.0954}, {'energy': 0.052600004}, {'healthcare': 0.15020001}], 'holdings': [{'symbol': 'VTI', 'holdingName': 'Vanguard Total Stock Market ETF', 'holdingPercent': 1}], 'bondHoldings': {'maturity': None, 'duration': None, 'creditQuality': None, 'maturityCat': None, 'durationCat': None, 'creditQualityCat': None}, 'bondRatings': [{'bb': 0}, {'aa': 0}, {'aaa': 0}, {'a': 0}, {'other': 0}, {'b': 0}, {'bbb': 0}, {'below_b': 0}, {'us_government': 0}], 'equityHoldings': {'priceToCashflow': 16.72, 'priceToSales': 2.66, 'priceToBookCat': None, 'priceToEarningsCat': None, 'medianMarketCapCat': None, 'threeYearEarningsGrowthCat': None, 'threeYearEarningsGrowth': None, 'medianMarketCap': None, 'priceToEarnings': 17.21, 'priceToBook': 4.02, 'priceToSalesCat': None, 'priceToCashflowCat': None}, 'otherPosition': None, 'cashPosition': None, 'stockPosition': 0.9906, 'regularMarketPrice': 69.89, 'preMarketPrice': None, 'logo_url': 'https://logo.clearbit.com/VANGUARD.com', 'trailingPegRatio': None}\n"
          ]
        }
      ]
    },
    {
      "cell_type": "markdown",
      "source": [
        "## Retrieve financial key metrics like Company Sector, Price Earnings Ratio, and Company Beta from the above dictionary of items easily."
      ],
      "metadata": {
        "id": "X7g1RCnTbN68"
      }
    },
    {
      "cell_type": "code",
      "source": [
        "# display Company Sector/Exchange\n",
        "#print(\"Company Sector : \", GetStockInformation.info['sector'])\n",
        "print(\"Stock Exchange : \", GetStockInformation.info['exchange'])\n",
        "print(\"\\nStock Symbol/Ticker : \", GetStockInformation.info['symbol'])\n",
        "print(\"\\nFull Name of Stock/Etf  :\", GetStockInformation.info['longName'])\n",
        "print(\"\\nQuote Type Stock or Etf?  :\", GetStockInformation.info['quoteType'])\n",
        "print(\"\\nNav Price of Stock or Etf?  :\", GetStockInformation.info['navPrice'])\n",
        "\n",
        "# display Sector Weightings\n",
        "print()\n",
        "print(\"Sector Weightings :\")\n",
        "print(GetStockInformation.info['sectorWeightings'])\n",
        " \n",
        "# display Price Earnings Ratio\n",
        "#print(\"Price Earnings Ratio : \", GetStockInformation.info['trailingPE'])\n",
        "print(\"\\nAverage 10 Day Volume of Stock or Etf?  :\", GetStockInformation.info['averageDailyVolume10Day'])\n",
        " \n",
        "# display Company Beta\n",
        "#print(\" Company Beta : \", GetStockInformation.info['beta'])"
      ],
      "metadata": {
        "colab": {
          "base_uri": "https://localhost:8080/"
        },
        "id": "m-H2eYZzbQZL",
        "outputId": "294e296f-f566-49ff-f33e-cc9b03a0aa3d"
      },
      "execution_count": 4,
      "outputs": [
        {
          "output_type": "stream",
          "name": "stdout",
          "text": [
            "Stock Exchange :  TOR\n",
            "\n",
            "Stock Symbol/Ticker :  VUN.TO\n",
            "\n",
            "Full Name of Stock/Etf  : Vanguard U.S. Total Market Index ETF\n",
            "\n",
            "Quote Type Stock or Etf?  : ETF\n",
            "\n",
            "Nav Price of Stock or Etf?  : 71\n",
            "\n",
            "Sector Weightings :\n",
            "[{'realestate': 0.0342}, {'consumer_cyclical': 0.10560001}, {'basic_materials': 0.0248}, {'consumer_defensive': 0.0669}, {'technology': 0.2284}, {'communication_services': 0.0673}, {'financial_services': 0.1366}, {'utilities': 0.0241}, {'industrials': 0.0954}, {'energy': 0.052600004}, {'healthcare': 0.15020001}]\n",
            "\n",
            "Average 10 Day Volume of Stock or Etf?  : 55580\n"
          ]
        }
      ]
    },
    {
      "cell_type": "code",
      "source": [
        "# get all key value pairs that are available\n",
        "for key, value in GetStockInformation.info.items():\n",
        "    print(key, \":\", value)"
      ],
      "metadata": {
        "colab": {
          "base_uri": "https://localhost:8080/"
        },
        "outputId": "25ce7c66-4d4b-4f2b-dd19-9ef3f9489aa8",
        "id": "-Wc_1Lmyb3Tb"
      },
      "execution_count": 5,
      "outputs": [
        {
          "output_type": "stream",
          "name": "stdout",
          "text": [
            "exchange : TOR\n",
            "shortName : VANGUARD US TOTAL MARKET IDX ET\n",
            "longName : Vanguard U.S. Total Market Index ETF\n",
            "exchangeTimezoneName : America/Toronto\n",
            "exchangeTimezoneShortName : EST\n",
            "isEsgPopulated : False\n",
            "gmtOffSetMilliseconds : -18000000\n",
            "quoteType : ETF\n",
            "symbol : VUN.TO\n",
            "messageBoardId : finmb_242582003\n",
            "market : ca_market\n",
            "annualHoldingsTurnover : None\n",
            "enterpriseToRevenue : None\n",
            "beta3Year : 1.02\n",
            "profitMargins : None\n",
            "enterpriseToEbitda : None\n",
            "52WeekChange : None\n",
            "morningStarRiskRating : None\n",
            "forwardEps : None\n",
            "revenueQuarterlyGrowth : None\n",
            "fundInceptionDate : 1375401600\n",
            "annualReportExpenseRatio : None\n",
            "totalAssets : 5595947008\n",
            "bookValue : None\n",
            "fundFamily : Vanguard Investments Canada Inc\n",
            "lastFiscalYearEnd : None\n",
            "netIncomeToCommon : None\n",
            "trailingEps : None\n",
            "lastDividendValue : None\n",
            "SandP52WeekChange : None\n",
            "priceToBook : None\n",
            "nextFiscalYearEnd : None\n",
            "yield : 0.011\n",
            "mostRecentQuarter : None\n",
            "enterpriseValue : None\n",
            "priceHint : 2\n",
            "threeYearAverageReturn : 0.078200005\n",
            "lastSplitDate : None\n",
            "lastSplitFactor : None\n",
            "legalType : Exchange Traded Fund\n",
            "lastDividendDate : None\n",
            "morningStarOverallRating : None\n",
            "earningsQuarterlyGrowth : None\n",
            "priceToSalesTrailing12Months : None\n",
            "pegRatio : None\n",
            "ytdReturn : None\n",
            "forwardPE : None\n",
            "maxAge : 1\n",
            "lastCapGain : None\n",
            "category : None\n",
            "fiveYearAverageReturn : 0.0968\n",
            "phone : NA\n",
            "longBusinessSummary : NA\n",
            "companyOfficers : []\n",
            "previousClose : 70.98\n",
            "regularMarketOpen : 70.36\n",
            "twoHundredDayAverage : 71.46448\n",
            "trailingAnnualDividendYield : None\n",
            "payoutRatio : None\n",
            "volume24Hr : None\n",
            "regularMarketDayHigh : 70.5\n",
            "navPrice : 71\n",
            "averageDailyVolume10Day : 55580\n",
            "regularMarketPreviousClose : 70.98\n",
            "fiftyDayAverage : 71.7494\n",
            "trailingAnnualDividendRate : None\n",
            "open : 70.36\n",
            "toCurrency : None\n",
            "averageVolume10days : 55580\n",
            "expireDate : None\n",
            "algorithm : None\n",
            "dividendRate : None\n",
            "exDividendDate : None\n",
            "beta : None\n",
            "circulatingSupply : None\n",
            "startDate : None\n",
            "regularMarketDayLow : 69.85\n",
            "currency : CAD\n",
            "regularMarketVolume : 36288\n",
            "lastMarket : None\n",
            "maxSupply : None\n",
            "openInterest : None\n",
            "marketCap : None\n",
            "volumeAllCurrencies : None\n",
            "strikePrice : None\n",
            "averageVolume : 45919\n",
            "dayLow : 69.85\n",
            "ask : 69.97\n",
            "askSize : 0\n",
            "volume : 36288\n",
            "fiftyTwoWeekHigh : 84.79\n",
            "fromCurrency : None\n",
            "fiveYearAvgDividendYield : None\n",
            "fiftyTwoWeekLow : 63.87\n",
            "bid : 69.88\n",
            "tradeable : False\n",
            "dividendYield : None\n",
            "bidSize : 0\n",
            "dayHigh : 70.5\n",
            "coinMarketCapLink : None\n",
            "preferredPosition : None\n",
            "bondPosition : 0\n",
            "convertiblePosition : None\n",
            "sectorWeightings : [{'realestate': 0.0342}, {'consumer_cyclical': 0.10560001}, {'basic_materials': 0.0248}, {'consumer_defensive': 0.0669}, {'technology': 0.2284}, {'communication_services': 0.0673}, {'financial_services': 0.1366}, {'utilities': 0.0241}, {'industrials': 0.0954}, {'energy': 0.052600004}, {'healthcare': 0.15020001}]\n",
            "holdings : [{'symbol': 'VTI', 'holdingName': 'Vanguard Total Stock Market ETF', 'holdingPercent': 1}]\n",
            "bondHoldings : {'maturity': None, 'duration': None, 'creditQuality': None, 'maturityCat': None, 'durationCat': None, 'creditQualityCat': None}\n",
            "bondRatings : [{'bb': 0}, {'aa': 0}, {'aaa': 0}, {'a': 0}, {'other': 0}, {'b': 0}, {'bbb': 0}, {'below_b': 0}, {'us_government': 0}]\n",
            "equityHoldings : {'priceToCashflow': 16.72, 'priceToSales': 2.66, 'priceToBookCat': None, 'priceToEarningsCat': None, 'medianMarketCapCat': None, 'threeYearEarningsGrowthCat': None, 'threeYearEarningsGrowth': None, 'medianMarketCap': None, 'priceToEarnings': 17.21, 'priceToBook': 4.02, 'priceToSalesCat': None, 'priceToCashflowCat': None}\n",
            "otherPosition : None\n",
            "cashPosition : None\n",
            "stockPosition : 0.9906\n",
            "regularMarketPrice : 69.89\n",
            "preMarketPrice : None\n",
            "logo_url : https://logo.clearbit.com/VANGUARD.com\n",
            "trailingPegRatio : None\n"
          ]
        }
      ]
    },
    {
      "cell_type": "markdown",
      "source": [
        "## Retrieve historical market prices too and display them."
      ],
      "metadata": {
        "id": "Tao4lypNfI3T"
      }
    },
    {
      "cell_type": "code",
      "source": [
        "# Valid options are 1d, 5d, 1mo, 3mo, 6mo, 1y, 2y,\n",
        "# 5y, 10y and ytd.\n",
        "df = GetStockInformation.history(period=\"ytd\")\n",
        "df.head()"
      ],
      "metadata": {
        "colab": {
          "base_uri": "https://localhost:8080/",
          "height": 238
        },
        "id": "54zxBMUxfLqF",
        "outputId": "f188b6c3-ac99-4166-c8d6-640da1c8bec0"
      },
      "execution_count": 29,
      "outputs": [
        {
          "output_type": "execute_result",
          "data": {
            "text/plain": [
              "                                Open       High        Low      Close  Volume  \\\n",
              "Date                                                                            \n",
              "2022-01-04 00:00:00-05:00  83.317990  83.556039  82.683186  83.109695   59900   \n",
              "2022-01-05 00:00:00-05:00  82.921238  83.050188  81.631798  81.631798   88100   \n",
              "2022-01-06 00:00:00-05:00  81.810320  81.810320  81.185431  81.274704   69200   \n",
              "2022-01-07 00:00:00-05:00  81.274713  81.403654  80.382018  80.411774   43400   \n",
              "2022-01-10 00:00:00-05:00  80.342332  80.530792  78.973540  80.530792   94700   \n",
              "\n",
              "                           Dividends  Stock Splits  Capital Gains  \n",
              "Date                                                               \n",
              "2022-01-04 00:00:00-05:00        0.0           0.0            0.0  \n",
              "2022-01-05 00:00:00-05:00        0.0           0.0            0.0  \n",
              "2022-01-06 00:00:00-05:00        0.0           0.0            0.0  \n",
              "2022-01-07 00:00:00-05:00        0.0           0.0            0.0  \n",
              "2022-01-10 00:00:00-05:00        0.0           0.0            0.0  "
            ],
            "text/html": [
              "\n",
              "  <div id=\"df-2f0d11f9-0edf-420f-a0fd-bfd8d4d130e2\">\n",
              "    <div class=\"colab-df-container\">\n",
              "      <div>\n",
              "<style scoped>\n",
              "    .dataframe tbody tr th:only-of-type {\n",
              "        vertical-align: middle;\n",
              "    }\n",
              "\n",
              "    .dataframe tbody tr th {\n",
              "        vertical-align: top;\n",
              "    }\n",
              "\n",
              "    .dataframe thead th {\n",
              "        text-align: right;\n",
              "    }\n",
              "</style>\n",
              "<table border=\"1\" class=\"dataframe\">\n",
              "  <thead>\n",
              "    <tr style=\"text-align: right;\">\n",
              "      <th></th>\n",
              "      <th>Open</th>\n",
              "      <th>High</th>\n",
              "      <th>Low</th>\n",
              "      <th>Close</th>\n",
              "      <th>Volume</th>\n",
              "      <th>Dividends</th>\n",
              "      <th>Stock Splits</th>\n",
              "      <th>Capital Gains</th>\n",
              "    </tr>\n",
              "    <tr>\n",
              "      <th>Date</th>\n",
              "      <th></th>\n",
              "      <th></th>\n",
              "      <th></th>\n",
              "      <th></th>\n",
              "      <th></th>\n",
              "      <th></th>\n",
              "      <th></th>\n",
              "      <th></th>\n",
              "    </tr>\n",
              "  </thead>\n",
              "  <tbody>\n",
              "    <tr>\n",
              "      <th>2022-01-04 00:00:00-05:00</th>\n",
              "      <td>83.317990</td>\n",
              "      <td>83.556039</td>\n",
              "      <td>82.683186</td>\n",
              "      <td>83.109695</td>\n",
              "      <td>59900</td>\n",
              "      <td>0.0</td>\n",
              "      <td>0.0</td>\n",
              "      <td>0.0</td>\n",
              "    </tr>\n",
              "    <tr>\n",
              "      <th>2022-01-05 00:00:00-05:00</th>\n",
              "      <td>82.921238</td>\n",
              "      <td>83.050188</td>\n",
              "      <td>81.631798</td>\n",
              "      <td>81.631798</td>\n",
              "      <td>88100</td>\n",
              "      <td>0.0</td>\n",
              "      <td>0.0</td>\n",
              "      <td>0.0</td>\n",
              "    </tr>\n",
              "    <tr>\n",
              "      <th>2022-01-06 00:00:00-05:00</th>\n",
              "      <td>81.810320</td>\n",
              "      <td>81.810320</td>\n",
              "      <td>81.185431</td>\n",
              "      <td>81.274704</td>\n",
              "      <td>69200</td>\n",
              "      <td>0.0</td>\n",
              "      <td>0.0</td>\n",
              "      <td>0.0</td>\n",
              "    </tr>\n",
              "    <tr>\n",
              "      <th>2022-01-07 00:00:00-05:00</th>\n",
              "      <td>81.274713</td>\n",
              "      <td>81.403654</td>\n",
              "      <td>80.382018</td>\n",
              "      <td>80.411774</td>\n",
              "      <td>43400</td>\n",
              "      <td>0.0</td>\n",
              "      <td>0.0</td>\n",
              "      <td>0.0</td>\n",
              "    </tr>\n",
              "    <tr>\n",
              "      <th>2022-01-10 00:00:00-05:00</th>\n",
              "      <td>80.342332</td>\n",
              "      <td>80.530792</td>\n",
              "      <td>78.973540</td>\n",
              "      <td>80.530792</td>\n",
              "      <td>94700</td>\n",
              "      <td>0.0</td>\n",
              "      <td>0.0</td>\n",
              "      <td>0.0</td>\n",
              "    </tr>\n",
              "  </tbody>\n",
              "</table>\n",
              "</div>\n",
              "      <button class=\"colab-df-convert\" onclick=\"convertToInteractive('df-2f0d11f9-0edf-420f-a0fd-bfd8d4d130e2')\"\n",
              "              title=\"Convert this dataframe to an interactive table.\"\n",
              "              style=\"display:none;\">\n",
              "        \n",
              "  <svg xmlns=\"http://www.w3.org/2000/svg\" height=\"24px\"viewBox=\"0 0 24 24\"\n",
              "       width=\"24px\">\n",
              "    <path d=\"M0 0h24v24H0V0z\" fill=\"none\"/>\n",
              "    <path d=\"M18.56 5.44l.94 2.06.94-2.06 2.06-.94-2.06-.94-.94-2.06-.94 2.06-2.06.94zm-11 1L8.5 8.5l.94-2.06 2.06-.94-2.06-.94L8.5 2.5l-.94 2.06-2.06.94zm10 10l.94 2.06.94-2.06 2.06-.94-2.06-.94-.94-2.06-.94 2.06-2.06.94z\"/><path d=\"M17.41 7.96l-1.37-1.37c-.4-.4-.92-.59-1.43-.59-.52 0-1.04.2-1.43.59L10.3 9.45l-7.72 7.72c-.78.78-.78 2.05 0 2.83L4 21.41c.39.39.9.59 1.41.59.51 0 1.02-.2 1.41-.59l7.78-7.78 2.81-2.81c.8-.78.8-2.07 0-2.86zM5.41 20L4 18.59l7.72-7.72 1.47 1.35L5.41 20z\"/>\n",
              "  </svg>\n",
              "      </button>\n",
              "      \n",
              "  <style>\n",
              "    .colab-df-container {\n",
              "      display:flex;\n",
              "      flex-wrap:wrap;\n",
              "      gap: 12px;\n",
              "    }\n",
              "\n",
              "    .colab-df-convert {\n",
              "      background-color: #E8F0FE;\n",
              "      border: none;\n",
              "      border-radius: 50%;\n",
              "      cursor: pointer;\n",
              "      display: none;\n",
              "      fill: #1967D2;\n",
              "      height: 32px;\n",
              "      padding: 0 0 0 0;\n",
              "      width: 32px;\n",
              "    }\n",
              "\n",
              "    .colab-df-convert:hover {\n",
              "      background-color: #E2EBFA;\n",
              "      box-shadow: 0px 1px 2px rgba(60, 64, 67, 0.3), 0px 1px 3px 1px rgba(60, 64, 67, 0.15);\n",
              "      fill: #174EA6;\n",
              "    }\n",
              "\n",
              "    [theme=dark] .colab-df-convert {\n",
              "      background-color: #3B4455;\n",
              "      fill: #D2E3FC;\n",
              "    }\n",
              "\n",
              "    [theme=dark] .colab-df-convert:hover {\n",
              "      background-color: #434B5C;\n",
              "      box-shadow: 0px 1px 3px 1px rgba(0, 0, 0, 0.15);\n",
              "      filter: drop-shadow(0px 1px 2px rgba(0, 0, 0, 0.3));\n",
              "      fill: #FFFFFF;\n",
              "    }\n",
              "  </style>\n",
              "\n",
              "      <script>\n",
              "        const buttonEl =\n",
              "          document.querySelector('#df-2f0d11f9-0edf-420f-a0fd-bfd8d4d130e2 button.colab-df-convert');\n",
              "        buttonEl.style.display =\n",
              "          google.colab.kernel.accessAllowed ? 'block' : 'none';\n",
              "\n",
              "        async function convertToInteractive(key) {\n",
              "          const element = document.querySelector('#df-2f0d11f9-0edf-420f-a0fd-bfd8d4d130e2');\n",
              "          const dataTable =\n",
              "            await google.colab.kernel.invokeFunction('convertToInteractive',\n",
              "                                                     [key], {});\n",
              "          if (!dataTable) return;\n",
              "\n",
              "          const docLinkHtml = 'Like what you see? Visit the ' +\n",
              "            '<a target=\"_blank\" href=https://colab.research.google.com/notebooks/data_table.ipynb>data table notebook</a>'\n",
              "            + ' to learn more about interactive tables.';\n",
              "          element.innerHTML = '';\n",
              "          dataTable['output_type'] = 'display_data';\n",
              "          await google.colab.output.renderOutput(dataTable, element);\n",
              "          const docLink = document.createElement('div');\n",
              "          docLink.innerHTML = docLinkHtml;\n",
              "          element.appendChild(docLink);\n",
              "        }\n",
              "      </script>\n",
              "    </div>\n",
              "  </div>\n",
              "  "
            ]
          },
          "metadata": {},
          "execution_count": 29
        }
      ]
    },
    {
      "cell_type": "code",
      "source": [
        "df.columns"
      ],
      "metadata": {
        "id": "bqcHsIPi1AYN",
        "outputId": "ff104c06-1cef-4933-ec87-889d31a30afd",
        "colab": {
          "base_uri": "https://localhost:8080/"
        }
      },
      "execution_count": 30,
      "outputs": [
        {
          "output_type": "execute_result",
          "data": {
            "text/plain": [
              "Index(['Open', 'High', 'Low', 'Close', 'Volume', 'Dividends', 'Stock Splits',\n",
              "       'Capital Gains'],\n",
              "      dtype='object')"
            ]
          },
          "metadata": {},
          "execution_count": 30
        }
      ]
    },
    {
      "cell_type": "code",
      "source": [
        "# Focusing on close prIce only\n",
        "df1 = df['Close'].to_frame()#\n",
        "df2 = df[['Open','Close']]\n",
        "df2.head()"
      ],
      "metadata": {
        "colab": {
          "base_uri": "https://localhost:8080/",
          "height": 238
        },
        "id": "4Lq8KJFIf0jy",
        "outputId": "e151b068-2792-451d-be86-bf5d6b2852d1"
      },
      "execution_count": 31,
      "outputs": [
        {
          "output_type": "execute_result",
          "data": {
            "text/plain": [
              "                                Open      Close\n",
              "Date                                           \n",
              "2022-01-04 00:00:00-05:00  83.317990  83.109695\n",
              "2022-01-05 00:00:00-05:00  82.921238  81.631798\n",
              "2022-01-06 00:00:00-05:00  81.810320  81.274704\n",
              "2022-01-07 00:00:00-05:00  81.274713  80.411774\n",
              "2022-01-10 00:00:00-05:00  80.342332  80.530792"
            ],
            "text/html": [
              "\n",
              "  <div id=\"df-50b1469e-6c73-4142-80a4-507a83c320eb\">\n",
              "    <div class=\"colab-df-container\">\n",
              "      <div>\n",
              "<style scoped>\n",
              "    .dataframe tbody tr th:only-of-type {\n",
              "        vertical-align: middle;\n",
              "    }\n",
              "\n",
              "    .dataframe tbody tr th {\n",
              "        vertical-align: top;\n",
              "    }\n",
              "\n",
              "    .dataframe thead th {\n",
              "        text-align: right;\n",
              "    }\n",
              "</style>\n",
              "<table border=\"1\" class=\"dataframe\">\n",
              "  <thead>\n",
              "    <tr style=\"text-align: right;\">\n",
              "      <th></th>\n",
              "      <th>Open</th>\n",
              "      <th>Close</th>\n",
              "    </tr>\n",
              "    <tr>\n",
              "      <th>Date</th>\n",
              "      <th></th>\n",
              "      <th></th>\n",
              "    </tr>\n",
              "  </thead>\n",
              "  <tbody>\n",
              "    <tr>\n",
              "      <th>2022-01-04 00:00:00-05:00</th>\n",
              "      <td>83.317990</td>\n",
              "      <td>83.109695</td>\n",
              "    </tr>\n",
              "    <tr>\n",
              "      <th>2022-01-05 00:00:00-05:00</th>\n",
              "      <td>82.921238</td>\n",
              "      <td>81.631798</td>\n",
              "    </tr>\n",
              "    <tr>\n",
              "      <th>2022-01-06 00:00:00-05:00</th>\n",
              "      <td>81.810320</td>\n",
              "      <td>81.274704</td>\n",
              "    </tr>\n",
              "    <tr>\n",
              "      <th>2022-01-07 00:00:00-05:00</th>\n",
              "      <td>81.274713</td>\n",
              "      <td>80.411774</td>\n",
              "    </tr>\n",
              "    <tr>\n",
              "      <th>2022-01-10 00:00:00-05:00</th>\n",
              "      <td>80.342332</td>\n",
              "      <td>80.530792</td>\n",
              "    </tr>\n",
              "  </tbody>\n",
              "</table>\n",
              "</div>\n",
              "      <button class=\"colab-df-convert\" onclick=\"convertToInteractive('df-50b1469e-6c73-4142-80a4-507a83c320eb')\"\n",
              "              title=\"Convert this dataframe to an interactive table.\"\n",
              "              style=\"display:none;\">\n",
              "        \n",
              "  <svg xmlns=\"http://www.w3.org/2000/svg\" height=\"24px\"viewBox=\"0 0 24 24\"\n",
              "       width=\"24px\">\n",
              "    <path d=\"M0 0h24v24H0V0z\" fill=\"none\"/>\n",
              "    <path d=\"M18.56 5.44l.94 2.06.94-2.06 2.06-.94-2.06-.94-.94-2.06-.94 2.06-2.06.94zm-11 1L8.5 8.5l.94-2.06 2.06-.94-2.06-.94L8.5 2.5l-.94 2.06-2.06.94zm10 10l.94 2.06.94-2.06 2.06-.94-2.06-.94-.94-2.06-.94 2.06-2.06.94z\"/><path d=\"M17.41 7.96l-1.37-1.37c-.4-.4-.92-.59-1.43-.59-.52 0-1.04.2-1.43.59L10.3 9.45l-7.72 7.72c-.78.78-.78 2.05 0 2.83L4 21.41c.39.39.9.59 1.41.59.51 0 1.02-.2 1.41-.59l7.78-7.78 2.81-2.81c.8-.78.8-2.07 0-2.86zM5.41 20L4 18.59l7.72-7.72 1.47 1.35L5.41 20z\"/>\n",
              "  </svg>\n",
              "      </button>\n",
              "      \n",
              "  <style>\n",
              "    .colab-df-container {\n",
              "      display:flex;\n",
              "      flex-wrap:wrap;\n",
              "      gap: 12px;\n",
              "    }\n",
              "\n",
              "    .colab-df-convert {\n",
              "      background-color: #E8F0FE;\n",
              "      border: none;\n",
              "      border-radius: 50%;\n",
              "      cursor: pointer;\n",
              "      display: none;\n",
              "      fill: #1967D2;\n",
              "      height: 32px;\n",
              "      padding: 0 0 0 0;\n",
              "      width: 32px;\n",
              "    }\n",
              "\n",
              "    .colab-df-convert:hover {\n",
              "      background-color: #E2EBFA;\n",
              "      box-shadow: 0px 1px 2px rgba(60, 64, 67, 0.3), 0px 1px 3px 1px rgba(60, 64, 67, 0.15);\n",
              "      fill: #174EA6;\n",
              "    }\n",
              "\n",
              "    [theme=dark] .colab-df-convert {\n",
              "      background-color: #3B4455;\n",
              "      fill: #D2E3FC;\n",
              "    }\n",
              "\n",
              "    [theme=dark] .colab-df-convert:hover {\n",
              "      background-color: #434B5C;\n",
              "      box-shadow: 0px 1px 3px 1px rgba(0, 0, 0, 0.15);\n",
              "      filter: drop-shadow(0px 1px 2px rgba(0, 0, 0, 0.3));\n",
              "      fill: #FFFFFF;\n",
              "    }\n",
              "  </style>\n",
              "\n",
              "      <script>\n",
              "        const buttonEl =\n",
              "          document.querySelector('#df-50b1469e-6c73-4142-80a4-507a83c320eb button.colab-df-convert');\n",
              "        buttonEl.style.display =\n",
              "          google.colab.kernel.accessAllowed ? 'block' : 'none';\n",
              "\n",
              "        async function convertToInteractive(key) {\n",
              "          const element = document.querySelector('#df-50b1469e-6c73-4142-80a4-507a83c320eb');\n",
              "          const dataTable =\n",
              "            await google.colab.kernel.invokeFunction('convertToInteractive',\n",
              "                                                     [key], {});\n",
              "          if (!dataTable) return;\n",
              "\n",
              "          const docLinkHtml = 'Like what you see? Visit the ' +\n",
              "            '<a target=\"_blank\" href=https://colab.research.google.com/notebooks/data_table.ipynb>data table notebook</a>'\n",
              "            + ' to learn more about interactive tables.';\n",
              "          element.innerHTML = '';\n",
              "          dataTable['output_type'] = 'display_data';\n",
              "          await google.colab.output.renderOutput(dataTable, element);\n",
              "          const docLink = document.createElement('div');\n",
              "          docLink.innerHTML = docLinkHtml;\n",
              "          element.appendChild(docLink);\n",
              "        }\n",
              "      </script>\n",
              "    </div>\n",
              "  </div>\n",
              "  "
            ]
          },
          "metadata": {},
          "execution_count": 31
        }
      ]
    },
    {
      "cell_type": "code",
      "source": [
        "# Calculate the 50 day moving average of close price\n",
        "df1['SMA50'] = df1['Close'].rolling(50).mean()\n",
        "\n",
        "\n",
        "# Calculate the 100 day moving average of close price\n",
        "df1['SMA100'] = df1['Close'].rolling(100).mean()\n",
        "\n",
        "\n",
        "# Calculate the 150 day moving average of close price\n",
        "df1['SMA150'] = df1['Close'].rolling(150).mean()"
      ],
      "metadata": {
        "id": "GfNJdjk3f-xv"
      },
      "execution_count": 32,
      "outputs": []
    },
    {
      "cell_type": "code",
      "source": [
        "\n",
        "# removing all the NULL values using dropna() method\n",
        "df1.dropna(inplace=True)\n",
        " \n",
        "# plotting Close price and simple\n",
        "# moving average of 30 days using .plot() method\n",
        "df1[['Close', 'SMA50', 'SMA100', 'SMA150']].plot(label='VDY.TO')\n",
        "plt.show()"
      ],
      "metadata": {
        "colab": {
          "base_uri": "https://localhost:8080/",
          "height": 465
        },
        "id": "xbaCuWzjglc4",
        "outputId": "e8faa078-6ef6-47f3-c756-cfb15f07f60d"
      },
      "execution_count": 13,
      "outputs": [
        {
          "output_type": "display_data",
          "data": {
            "text/plain": [
              "<Figure size 1152x576 with 1 Axes>"
            ],
            "image/png": "[encoded data removed]"
          },
          "metadata": {
            "needs_background": "light"
          }
        }
      ]
    },
    {
      "cell_type": "code",
      "source": [
        "# Calculate average daily return ofstock in basis point units\n",
        "df2['daily_return'] = 100*((df2['Close'] - df2['Open'])/ df2['Open'])\n",
        "df2.head()"
      ],
      "metadata": {
        "id": "1wtWZb_x1YpA",
        "outputId": "a54eb9ea-f011-4c59-efbe-5999dd6ed228",
        "colab": {
          "base_uri": "https://localhost:8080/",
          "height": 342
        }
      },
      "execution_count": 33,
      "outputs": [
        {
          "output_type": "stream",
          "name": "stderr",
          "text": [
            "<ipython-input-33-45c937e2def4>:2: SettingWithCopyWarning: \n",
            "A value is trying to be set on a copy of a slice from a DataFrame.\n",
            "Try using .loc[row_indexer,col_indexer] = value instead\n",
            "\n",
            "See the caveats in the documentation: https://pandas.pydata.org/pandas-docs/stable/user_guide/indexing.html#returning-a-view-versus-a-copy\n",
            "  df2['daily_return'] = 100*((df2['Close'] - df2['Open'])/ df2['Open'])\n"
          ]
        },
        {
          "output_type": "execute_result",
          "data": {
            "text/plain": [
              "                                Open      Close  daily_return\n",
              "Date                                                         \n",
              "2022-01-04 00:00:00-05:00  83.317990  83.109695     -0.249999\n",
              "2022-01-05 00:00:00-05:00  82.921238  81.631798     -1.555018\n",
              "2022-01-06 00:00:00-05:00  81.810320  81.274704     -0.654705\n",
              "2022-01-07 00:00:00-05:00  81.274713  80.411774     -1.061756\n",
              "2022-01-10 00:00:00-05:00  80.342332  80.530792      0.234571"
            ],
            "text/html": [
              "\n",
              "  <div id=\"df-ddda3af9-02a4-4b38-a49e-661c54e0deee\">\n",
              "    <div class=\"colab-df-container\">\n",
              "      <div>\n",
              "<style scoped>\n",
              "    .dataframe tbody tr th:only-of-type {\n",
              "        vertical-align: middle;\n",
              "    }\n",
              "\n",
              "    .dataframe tbody tr th {\n",
              "        vertical-align: top;\n",
              "    }\n",
              "\n",
              "    .dataframe thead th {\n",
              "        text-align: right;\n",
              "    }\n",
              "</style>\n",
              "<table border=\"1\" class=\"dataframe\">\n",
              "  <thead>\n",
              "    <tr style=\"text-align: right;\">\n",
              "      <th></th>\n",
              "      <th>Open</th>\n",
              "      <th>Close</th>\n",
              "      <th>daily_return</th>\n",
              "    </tr>\n",
              "    <tr>\n",
              "      <th>Date</th>\n",
              "      <th></th>\n",
              "      <th></th>\n",
              "      <th></th>\n",
              "    </tr>\n",
              "  </thead>\n",
              "  <tbody>\n",
              "    <tr>\n",
              "      <th>2022-01-04 00:00:00-05:00</th>\n",
              "      <td>83.317990</td>\n",
              "      <td>83.109695</td>\n",
              "      <td>-0.249999</td>\n",
              "    </tr>\n",
              "    <tr>\n",
              "      <th>2022-01-05 00:00:00-05:00</th>\n",
              "      <td>82.921238</td>\n",
              "      <td>81.631798</td>\n",
              "      <td>-1.555018</td>\n",
              "    </tr>\n",
              "    <tr>\n",
              "      <th>2022-01-06 00:00:00-05:00</th>\n",
              "      <td>81.810320</td>\n",
              "      <td>81.274704</td>\n",
              "      <td>-0.654705</td>\n",
              "    </tr>\n",
              "    <tr>\n",
              "      <th>2022-01-07 00:00:00-05:00</th>\n",
              "      <td>81.274713</td>\n",
              "      <td>80.411774</td>\n",
              "      <td>-1.061756</td>\n",
              "    </tr>\n",
              "    <tr>\n",
              "      <th>2022-01-10 00:00:00-05:00</th>\n",
              "      <td>80.342332</td>\n",
              "      <td>80.530792</td>\n",
              "      <td>0.234571</td>\n",
              "    </tr>\n",
              "  </tbody>\n",
              "</table>\n",
              "</div>\n",
              "      <button class=\"colab-df-convert\" onclick=\"convertToInteractive('df-ddda3af9-02a4-4b38-a49e-661c54e0deee')\"\n",
              "              title=\"Convert this dataframe to an interactive table.\"\n",
              "              style=\"display:none;\">\n",
              "        \n",
              "  <svg xmlns=\"http://www.w3.org/2000/svg\" height=\"24px\"viewBox=\"0 0 24 24\"\n",
              "       width=\"24px\">\n",
              "    <path d=\"M0 0h24v24H0V0z\" fill=\"none\"/>\n",
              "    <path d=\"M18.56 5.44l.94 2.06.94-2.06 2.06-.94-2.06-.94-.94-2.06-.94 2.06-2.06.94zm-11 1L8.5 8.5l.94-2.06 2.06-.94-2.06-.94L8.5 2.5l-.94 2.06-2.06.94zm10 10l.94 2.06.94-2.06 2.06-.94-2.06-.94-.94-2.06-.94 2.06-2.06.94z\"/><path d=\"M17.41 7.96l-1.37-1.37c-.4-.4-.92-.59-1.43-.59-.52 0-1.04.2-1.43.59L10.3 9.45l-7.72 7.72c-.78.78-.78 2.05 0 2.83L4 21.41c.39.39.9.59 1.41.59.51 0 1.02-.2 1.41-.59l7.78-7.78 2.81-2.81c.8-.78.8-2.07 0-2.86zM5.41 20L4 18.59l7.72-7.72 1.47 1.35L5.41 20z\"/>\n",
              "  </svg>\n",
              "      </button>\n",
              "      \n",
              "  <style>\n",
              "    .colab-df-container {\n",
              "      display:flex;\n",
              "      flex-wrap:wrap;\n",
              "      gap: 12px;\n",
              "    }\n",
              "\n",
              "    .colab-df-convert {\n",
              "      background-color: #E8F0FE;\n",
              "      border: none;\n",
              "      border-radius: 50%;\n",
              "      cursor: pointer;\n",
              "      display: none;\n",
              "      fill: #1967D2;\n",
              "      height: 32px;\n",
              "      padding: 0 0 0 0;\n",
              "      width: 32px;\n",
              "    }\n",
              "\n",
              "    .colab-df-convert:hover {\n",
              "      background-color: #E2EBFA;\n",
              "      box-shadow: 0px 1px 2px rgba(60, 64, 67, 0.3), 0px 1px 3px 1px rgba(60, 64, 67, 0.15);\n",
              "      fill: #174EA6;\n",
              "    }\n",
              "\n",
              "    [theme=dark] .colab-df-convert {\n",
              "      background-color: #3B4455;\n",
              "      fill: #D2E3FC;\n",
              "    }\n",
              "\n",
              "    [theme=dark] .colab-df-convert:hover {\n",
              "      background-color: #434B5C;\n",
              "      box-shadow: 0px 1px 3px 1px rgba(0, 0, 0, 0.15);\n",
              "      filter: drop-shadow(0px 1px 2px rgba(0, 0, 0, 0.3));\n",
              "      fill: #FFFFFF;\n",
              "    }\n",
              "  </style>\n",
              "\n",
              "      <script>\n",
              "        const buttonEl =\n",
              "          document.querySelector('#df-ddda3af9-02a4-4b38-a49e-661c54e0deee button.colab-df-convert');\n",
              "        buttonEl.style.display =\n",
              "          google.colab.kernel.accessAllowed ? 'block' : 'none';\n",
              "\n",
              "        async function convertToInteractive(key) {\n",
              "          const element = document.querySelector('#df-ddda3af9-02a4-4b38-a49e-661c54e0deee');\n",
              "          const dataTable =\n",
              "            await google.colab.kernel.invokeFunction('convertToInteractive',\n",
              "                                                     [key], {});\n",
              "          if (!dataTable) return;\n",
              "\n",
              "          const docLinkHtml = 'Like what you see? Visit the ' +\n",
              "            '<a target=\"_blank\" href=https://colab.research.google.com/notebooks/data_table.ipynb>data table notebook</a>'\n",
              "            + ' to learn more about interactive tables.';\n",
              "          element.innerHTML = '';\n",
              "          dataTable['output_type'] = 'display_data';\n",
              "          await google.colab.output.renderOutput(dataTable, element);\n",
              "          const docLink = document.createElement('div');\n",
              "          docLink.innerHTML = docLinkHtml;\n",
              "          element.appendChild(docLink);\n",
              "        }\n",
              "      </script>\n",
              "    </div>\n",
              "  </div>\n",
              "  "
            ]
          },
          "metadata": {},
          "execution_count": 33
        }
      ]
    },
    {
      "cell_type": "code",
      "source": [
        "df2.hist(column = 'daily_return', bins = 20, legend = True)\n",
        "plt.show()"
      ],
      "metadata": {
        "id": "4TibIggE14Cg",
        "outputId": "bb095103-25b3-48ee-e4a7-58832c4cb20a",
        "colab": {
          "base_uri": "https://localhost:8080/",
          "height": 499
        }
      },
      "execution_count": 36,
      "outputs": [
        {
          "output_type": "display_data",
          "data": {
            "text/plain": [
              "<Figure size 1152x576 with 1 Axes>"
            ],
            "image/png": "[encoded data removed]"
          },
          "metadata": {
            "needs_background": "light"
          }
        }
      ]
    },
    {
      "cell_type": "code",
      "source": [
        "print(df2['daily_return'].mean())\n",
        "print(df2['daily_return'].std(skipna = True, ddof = 1))"
      ],
      "metadata": {
        "id": "gMwq-8ad2u3K",
        "outputId": "aad64746-d051-4054-b103-896dfe07aa18",
        "colab": {
          "base_uri": "https://localhost:8080/"
        }
      },
      "execution_count": 37,
      "outputs": [
        {
          "output_type": "stream",
          "name": "stdout",
          "text": [
            "-0.058879581907699874\n",
            "1.0900292999841827\n"
          ]
        }
      ]
    },
    {
      "cell_type": "markdown",
      "source": [
        "## ARIMA Method for TSA"
      ],
      "metadata": {
        "id": "sVdx8EvtQ75V"
      }
    },
    {
      "cell_type": "code",
      "source": [
        "import statsmodels.api as sm\n",
        "\n",
        "from statsmodels.graphics.api import qqplot"
      ],
      "metadata": {
        "id": "WJWPJnWTRCTP"
      },
      "execution_count": null,
      "outputs": []
    },
    {
      "cell_type": "code",
      "source": [
        "# Focusing on close prIce only\n",
        "df1 = df['Close'].to_frame()\n",
        "df1.head()"
      ],
      "metadata": {
        "id": "KZt7iJi9RQ_Z",
        "outputId": "1a78dd77-6259-4d67-afa8-84c8a8e37231",
        "colab": {
          "base_uri": "https://localhost:8080/",
          "height": 237
        }
      },
      "execution_count": null,
      "outputs": [
        {
          "output_type": "execute_result",
          "data": {
            "text/plain": [
              "                               Close\n",
              "Date                                \n",
              "2013-08-12 00:00:00-04:00  21.673931\n",
              "2013-08-13 00:00:00-04:00  21.824017\n",
              "2013-08-14 00:00:00-04:00  21.691587\n",
              "2013-08-15 00:00:00-04:00  21.311966\n",
              "2013-08-16 00:00:00-04:00  21.311966"
            ],
            "text/html": [
              "\n",
              "  <div id=\"df-64e8902e-e083-4dc2-8576-d930dd70ad3b\">\n",
              "    <div class=\"colab-df-container\">\n",
              "      <div>\n",
              "<style scoped>\n",
              "    .dataframe tbody tr th:only-of-type {\n",
              "        vertical-align: middle;\n",
              "    }\n",
              "\n",
              "    .dataframe tbody tr th {\n",
              "        vertical-align: top;\n",
              "    }\n",
              "\n",
              "    .dataframe thead th {\n",
              "        text-align: right;\n",
              "    }\n",
              "</style>\n",
              "<table border=\"1\" class=\"dataframe\">\n",
              "  <thead>\n",
              "    <tr style=\"text-align: right;\">\n",
              "      <th></th>\n",
              "      <th>Close</th>\n",
              "    </tr>\n",
              "    <tr>\n",
              "      <th>Date</th>\n",
              "      <th></th>\n",
              "    </tr>\n",
              "  </thead>\n",
              "  <tbody>\n",
              "    <tr>\n",
              "      <th>2013-08-12 00:00:00-04:00</th>\n",
              "      <td>21.673931</td>\n",
              "    </tr>\n",
              "    <tr>\n",
              "      <th>2013-08-13 00:00:00-04:00</th>\n",
              "      <td>21.824017</td>\n",
              "    </tr>\n",
              "    <tr>\n",
              "      <th>2013-08-14 00:00:00-04:00</th>\n",
              "      <td>21.691587</td>\n",
              "    </tr>\n",
              "    <tr>\n",
              "      <th>2013-08-15 00:00:00-04:00</th>\n",
              "      <td>21.311966</td>\n",
              "    </tr>\n",
              "    <tr>\n",
              "      <th>2013-08-16 00:00:00-04:00</th>\n",
              "      <td>21.311966</td>\n",
              "    </tr>\n",
              "  </tbody>\n",
              "</table>\n",
              "</div>\n",
              "      <button class=\"colab-df-convert\" onclick=\"convertToInteractive('df-64e8902e-e083-4dc2-8576-d930dd70ad3b')\"\n",
              "              title=\"Convert this dataframe to an interactive table.\"\n",
              "              style=\"display:none;\">\n",
              "        \n",
              "  <svg xmlns=\"http://www.w3.org/2000/svg\" height=\"24px\"viewBox=\"0 0 24 24\"\n",
              "       width=\"24px\">\n",
              "    <path d=\"M0 0h24v24H0V0z\" fill=\"none\"/>\n",
              "    <path d=\"M18.56 5.44l.94 2.06.94-2.06 2.06-.94-2.06-.94-.94-2.06-.94 2.06-2.06.94zm-11 1L8.5 8.5l.94-2.06 2.06-.94-2.06-.94L8.5 2.5l-.94 2.06-2.06.94zm10 10l.94 2.06.94-2.06 2.06-.94-2.06-.94-.94-2.06-.94 2.06-2.06.94z\"/><path d=\"M17.41 7.96l-1.37-1.37c-.4-.4-.92-.59-1.43-.59-.52 0-1.04.2-1.43.59L10.3 9.45l-7.72 7.72c-.78.78-.78 2.05 0 2.83L4 21.41c.39.39.9.59 1.41.59.51 0 1.02-.2 1.41-.59l7.78-7.78 2.81-2.81c.8-.78.8-2.07 0-2.86zM5.41 20L4 18.59l7.72-7.72 1.47 1.35L5.41 20z\"/>\n",
              "  </svg>\n",
              "      </button>\n",
              "      \n",
              "  <style>\n",
              "    .colab-df-container {\n",
              "      display:flex;\n",
              "      flex-wrap:wrap;\n",
              "      gap: 12px;\n",
              "    }\n",
              "\n",
              "    .colab-df-convert {\n",
              "      background-color: #E8F0FE;\n",
              "      border: none;\n",
              "      border-radius: 50%;\n",
              "      cursor: pointer;\n",
              "      display: none;\n",
              "      fill: #1967D2;\n",
              "      height: 32px;\n",
              "      padding: 0 0 0 0;\n",
              "      width: 32px;\n",
              "    }\n",
              "\n",
              "    .colab-df-convert:hover {\n",
              "      background-color: #E2EBFA;\n",
              "      box-shadow: 0px 1px 2px rgba(60, 64, 67, 0.3), 0px 1px 3px 1px rgba(60, 64, 67, 0.15);\n",
              "      fill: #174EA6;\n",
              "    }\n",
              "\n",
              "    [theme=dark] .colab-df-convert {\n",
              "      background-color: #3B4455;\n",
              "      fill: #D2E3FC;\n",
              "    }\n",
              "\n",
              "    [theme=dark] .colab-df-convert:hover {\n",
              "      background-color: #434B5C;\n",
              "      box-shadow: 0px 1px 3px 1px rgba(0, 0, 0, 0.15);\n",
              "      filter: drop-shadow(0px 1px 2px rgba(0, 0, 0, 0.3));\n",
              "      fill: #FFFFFF;\n",
              "    }\n",
              "  </style>\n",
              "\n",
              "      <script>\n",
              "        const buttonEl =\n",
              "          document.querySelector('#df-64e8902e-e083-4dc2-8576-d930dd70ad3b button.colab-df-convert');\n",
              "        buttonEl.style.display =\n",
              "          google.colab.kernel.accessAllowed ? 'block' : 'none';\n",
              "\n",
              "        async function convertToInteractive(key) {\n",
              "          const element = document.querySelector('#df-64e8902e-e083-4dc2-8576-d930dd70ad3b');\n",
              "          const dataTable =\n",
              "            await google.colab.kernel.invokeFunction('convertToInteractive',\n",
              "                                                     [key], {});\n",
              "          if (!dataTable) return;\n",
              "\n",
              "          const docLinkHtml = 'Like what you see? Visit the ' +\n",
              "            '<a target=\"_blank\" href=https://colab.research.google.com/notebooks/data_table.ipynb>data table notebook</a>'\n",
              "            + ' to learn more about interactive tables.';\n",
              "          element.innerHTML = '';\n",
              "          dataTable['output_type'] = 'display_data';\n",
              "          await google.colab.output.renderOutput(dataTable, element);\n",
              "          const docLink = document.createElement('div');\n",
              "          docLink.innerHTML = docLinkHtml;\n",
              "          element.appendChild(docLink);\n",
              "        }\n",
              "      </script>\n",
              "    </div>\n",
              "  </div>\n",
              "  "
            ]
          },
          "metadata": {},
          "execution_count": 33
        }
      ]
    },
    {
      "cell_type": "code",
      "source": [
        "# show plots in the notebook\n",
        "%matplotlib inline\n",
        "df1.plot(figsize=(12,8));"
      ],
      "metadata": {
        "id": "XCP0Sj44RV2S",
        "outputId": "f0c7f827-2f8a-4469-d0cd-03bbc1413555",
        "colab": {
          "base_uri": "https://localhost:8080/",
          "height": 465
        }
      },
      "execution_count": null,
      "outputs": [
        {
          "output_type": "display_data",
          "data": {
            "text/plain": [
              "<Figure size 864x576 with 1 Axes>"
            ],
            "image/png": "[encoded data removed]"
          },
          "metadata": {
            "needs_background": "light"
          }
        }
      ]
    },
    {
      "cell_type": "code",
      "source": [
        "# Test for serial correlation is the Durbin-Watson statistic. \n",
        "sm.stats.durbin_watson(df1)"
      ],
      "metadata": {
        "id": "9vdcu1QyRdjs",
        "outputId": "fe96d5ab-bf0b-427e-8170-7aa723bd2a65",
        "colab": {
          "base_uri": "https://localhost:8080/"
        }
      },
      "execution_count": null,
      "outputs": [
        {
          "output_type": "execute_result",
          "data": {
            "text/plain": [
              "array([0.00011655])"
            ]
          },
          "metadata": {},
          "execution_count": 35
        }
      ]
    },
    {
      "cell_type": "markdown",
      "source": [
        "###  This statistic will always be between 0 and 4. The closer to 0 the statistic, the more evidence for positive serial correlation. The closer to 4, the more evidence for negative serial correlation."
      ],
      "metadata": {
        "id": "qmDqZ5vWR-hW"
      }
    },
    {
      "cell_type": "markdown",
      "source": [
        "\n",
        "#### Partial autocorrelations. \n",
        "Another useful method to examine serial dependencies is to examine the partial autocorrelation function (PACF) – an extension of autocorrelation, where the dependence on the intermediate elements (those within the lag) is removed.\n",
        "\n",
        "Once we determine the nature of the auto-correlations we use the following rules of thumb.\n",
        "\n",
        "   * Rule 1: If the ACF shows exponential decay, the PACF has a spike at lag 1, and no correlation for other lags, then use one autoregressive (p)parameter\n",
        "   * Rule 2: If the ACF shows a sine-wave shape pattern or a set of exponential decays, the PACF has spikes at lags 1 and 2, and no correlation for other lags, the use two autoregressive (p) parameters\n",
        "   * Rule 3: If the ACF has a spike at lag 1, no correlation for other lags, and the PACF damps out exponentially, then use one moving average (q) parameter.\n",
        "   * Rule 4: If the ACF has spikes at lags 1 and 2, no correlation for other lags, and the PACF has a sine-wave shape pattern or a set of exponential decays, then use two moving average (q) parameter.\n",
        "   * Rule 5: If the ACF shows exponential decay starting at lag 1, and the PACF shows exponential decay starting at lag 1, then use one autoregressive (p) and one moving average (q) parameter."
      ],
      "metadata": {
        "id": "zxiwA7jfS09S"
      }
    },
    {
      "cell_type": "code",
      "source": [
        "# Can we get p and q ?\n",
        "fig = plt.figure(figsize=(12,8))\n",
        "ax1 = fig.add_subplot(211)\n",
        "fig = sm.graphics.tsa.plot_acf(df1.values.squeeze(), lags=50, ax=ax1)\n",
        "ax2 = fig.add_subplot(212)\n",
        "fig = sm.graphics.tsa.plot_pacf(df1, lags=50, ax=ax2)"
      ],
      "metadata": {
        "id": "Yk2RjYx4SIC-",
        "outputId": "d11c04a1-6b86-48db-da0f-73e73fa3956c",
        "colab": {
          "base_uri": "https://localhost:8080/",
          "height": 499
        }
      },
      "execution_count": null,
      "outputs": [
        {
          "output_type": "display_data",
          "data": {
            "text/plain": [
              "<Figure size 864x576 with 2 Axes>"
            ],
            "image/png": "[encoded data removed]"
          },
          "metadata": {
            "needs_background": "light"
          }
        }
      ]
    },
    {
      "cell_type": "code",
      "source": [
        "from pandas.plotting import autocorrelation_plot\n",
        "df1['Close_2'] = df1['Close']\n",
        "df1['Close_2'] = (df1['Close_2'] - df1['Close_2'].mean()) / (df1['Close_2'].std())\n",
        "plt.acorr(df1['Close_2'],maxlags = len(df1['Close_2']) -1, linestyle = \"solid\", usevlines = False, marker='')\n",
        "plt.show()\n",
        "autocorrelation_plot(df1['Close'])\n",
        "plt.show()"
      ],
      "metadata": {
        "id": "gr7-6cq_VBKX",
        "outputId": "8eee83ba-9f07-4f65-bd82-74d2b9a97f41",
        "colab": {
          "base_uri": "https://localhost:8080/",
          "height": 531
        }
      },
      "execution_count": null,
      "outputs": [
        {
          "output_type": "display_data",
          "data": {
            "text/plain": [
              "<Figure size 432x288 with 1 Axes>"
            ],
            "image/png": "[encoded data removed]"
          },
          "metadata": {
            "needs_background": "light"
          }
        },
        {
          "output_type": "display_data",
          "data": {
            "text/plain": [
              "<Figure size 432x288 with 1 Axes>"
            ],
            "image/png": "[encoded data removed]"
          },
          "metadata": {
            "needs_background": "light"
          }
        }
      ]
    }
  ]
}